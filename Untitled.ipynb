{
 "cells": [
  {
   "cell_type": "code",
   "execution_count": 1,
   "id": "b0f21899",
   "metadata": {},
   "outputs": [],
   "source": [
    "import numpy as np\n",
    "import gym\n",
    "import random\n",
    "from lava_grid import ZigZag6x10\n",
    "from tqdm import tqdm\n",
    "import math\n",
    "from agent_lava_v1 import agent\n"
   ]
  },
  {
   "cell_type": "code",
   "execution_count": 80,
   "id": "27eb691d",
   "metadata": {},
   "outputs": [
    {
     "name": "stderr",
     "output_type": "stream",
     "text": [
      "100%|██████████████████████████████████████████████████████████████████████████| 3000/3000 [00:06<00:00, 476.87it/s]"
     ]
    },
    {
     "name": "stdout",
     "output_type": "stream",
     "text": [
      "total reward: 0.8099999999999999\n"
     ]
    },
    {
     "name": "stderr",
     "output_type": "stream",
     "text": [
      "\n"
     ]
    }
   ],
   "source": [
    "# default setting\n",
    "max_steps = 100\n",
    "stochasticity = 0 # probability of the selected action failing and instead executing any of the remaining 3\n",
    "no_render = True\n",
    "\n",
    "env = ZigZag6x10(max_steps=max_steps, act_fail_prob=stochasticity, goal=(5, 9), numpy_state=False)\n",
    "s = env.reset()\n",
    "done = False\n",
    "cum_reward = 0.0\n",
    "\n",
    "\"\"\" Your agent\"\"\"\n",
    "agent = agent(env)\n",
    "\n",
    "\n",
    "# moving costs -0.01, falling in lava -1, reaching goal +1\n",
    "# final reward is number_of_steps / max_steps\n",
    "for _ in tqdm(range(3000)):\n",
    "    agent.episode_num += 1\n",
    "    s = env.reset()\n",
    "    done = False\n",
    "    cum_reward = 0.0\n",
    "\n",
    "    while not done:\n",
    "        action = agent.action()\n",
    "        ns, reward, done, i = env.step(action)\n",
    "        ns = env.s\n",
    "        agent.learn(s, reward, ns, action)\n",
    "        cum_reward += reward\n",
    "        s = ns\n",
    "    \n",
    "print(f\"total reward: {cum_reward}\")"
   ]
  },
  {
   "cell_type": "code",
   "execution_count": 81,
   "id": "0d74eb72",
   "metadata": {},
   "outputs": [
    {
     "data": {
      "text/plain": [
       "{0: 0.4026913145054373,\n",
       " 1: 0.8327421532685236,\n",
       " 2: 0.7625843004641145,\n",
       " 3: 0.9999999999999994}"
      ]
     },
     "execution_count": 81,
     "metadata": {},
     "output_type": "execute_result"
    }
   ],
   "source": [
    "agent.q_table[49]"
   ]
  },
  {
   "cell_type": "code",
   "execution_count": 2,
   "id": "76429264",
   "metadata": {},
   "outputs": [
    {
     "name": "stdout",
     "output_type": "stream",
     "text": [
      "0 상태의 행동가치 함수는 다음과 같다\n"
     ]
    },
    {
     "ename": "AttributeError",
     "evalue": "type object 'agent' has no attribute 'q_table'",
     "output_type": "error",
     "traceback": [
      "\u001b[1;31m---------------------------------------------------------------------------\u001b[0m",
      "\u001b[1;31mAttributeError\u001b[0m                            Traceback (most recent call last)",
      "Input \u001b[1;32mIn [2]\u001b[0m, in \u001b[0;36m<cell line: 1>\u001b[1;34m()\u001b[0m\n\u001b[0;32m      1\u001b[0m \u001b[38;5;28;01mfor\u001b[39;00m i \u001b[38;5;129;01min\u001b[39;00m \u001b[38;5;28mrange\u001b[39m(\u001b[38;5;241m60\u001b[39m):\n\u001b[0;32m      2\u001b[0m     \u001b[38;5;28mprint\u001b[39m(i, \u001b[38;5;124m'\u001b[39m\u001b[38;5;124m상태의 행동가치 함수는 다음과 같다\u001b[39m\u001b[38;5;124m'\u001b[39m)\n\u001b[1;32m----> 3\u001b[0m     \u001b[38;5;28mprint\u001b[39m(\u001b[43magent\u001b[49m\u001b[38;5;241;43m.\u001b[39;49m\u001b[43mq_table\u001b[49m[i])\n",
      "\u001b[1;31mAttributeError\u001b[0m: type object 'agent' has no attribute 'q_table'"
     ]
    }
   ],
   "source": [
    "for i in range(60):\n",
    "    print(i, '상태의 행동가치 함수는 다음과 같다')\n",
    "    print(agent.q_table[i])"
   ]
  },
  {
   "cell_type": "markdown",
   "id": "c7dd3969",
   "metadata": {},
   "source": [
    "### 7, 8, 17, 18 상태에서 루프를 도는 모습을 보임\n",
    "# 시간차 학습으로 해결 요망"
   ]
  },
  {
   "cell_type": "markdown",
   "id": "3b910c5c",
   "metadata": {},
   "source": [
    "1. agent에 env를 copy 해서 넣고, 실제 환경과 차이를 두고 시간차 학습\n",
    "2. epsilon을 점차 감소\n",
    "3. 벽에서 할 수 있는 행동을 제약"
   ]
  },
  {
   "cell_type": "markdown",
   "id": "346ed6cf",
   "metadata": {},
   "source": [
    "# -----------------\n",
    "# agent test\n",
    "# -----------------"
   ]
  },
  {
   "cell_type": "code",
   "execution_count": 7,
   "id": "61e12d08",
   "metadata": {},
   "outputs": [],
   "source": [
    "def test(step):\n",
    "    \n",
    "    record = []\n",
    "    \n",
    "    for _ in tqdm(range(step)):\n",
    "        from agent_lava_v1 import agent\n",
    "        \n",
    "        # default setting\n",
    "        max_steps = 100\n",
    "        stochasticity = 0 # probability of the selected action failing and instead executing any of the remaining 3\n",
    "        no_render = True\n",
    "\n",
    "        env = ZigZag6x10(max_steps=max_steps, act_fail_prob=stochasticity, goal=(5, 9), numpy_state=False)\n",
    "        s = env.reset()\n",
    "        done = False\n",
    "        cum_reward = 0.0\n",
    "\n",
    "        \"\"\" Your agent\"\"\"\n",
    "        global agent\n",
    "        agent = agent(env)\n",
    "\n",
    "\n",
    "        # moving costs -0.01, falling in lava -1, reaching goal +1\n",
    "        # final reward is number_of_steps / max_steps\n",
    "        for _ in range(300):\n",
    "            agent.episode_num += 1\n",
    "            s = env.reset()\n",
    "            done = False\n",
    "            cum_reward = 0.0\n",
    "\n",
    "            while not done:\n",
    "                action = agent.action()\n",
    "                ns, reward, done, i = env.step(action)\n",
    "                ns = env.s\n",
    "                agent.learn(s, reward, ns, action)\n",
    "                cum_reward += reward\n",
    "                s = ns\n",
    "        \n",
    "        \n",
    "        s = env.reset()\n",
    "        done = False\n",
    "        cum_reward = 0.0\n",
    "        \n",
    "        while not done:\n",
    "            action = agent.action(greedy = True)\n",
    "            ns, reward, done, i = env.step(action)\n",
    "            ns = env.s\n",
    "            agent.learn(s, reward, ns, action)\n",
    "            cum_reward += reward\n",
    "            \n",
    "        record.append(cum_reward)\n",
    "        \n",
    "#         print(f\"total reward: {cum_reward}\")\n",
    "    return record"
   ]
  },
  {
   "cell_type": "code",
   "execution_count": 8,
   "id": "dc0d16fa",
   "metadata": {
    "scrolled": true
   },
   "outputs": [
    {
     "name": "stderr",
     "output_type": "stream",
     "text": [
      "100%|█████████████████████████████████████████████████████████████████████████████| 100/100 [01:46<00:00,  1.06s/it]\n"
     ]
    }
   ],
   "source": [
    "record = test(100)"
   ]
  },
  {
   "cell_type": "code",
   "execution_count": 4,
   "id": "4694d6dd",
   "metadata": {},
   "outputs": [
    {
     "data": {
      "text/plain": [
       "100"
      ]
     },
     "execution_count": 4,
     "metadata": {},
     "output_type": "execute_result"
    }
   ],
   "source": [
    "record.count(record[0])"
   ]
  },
  {
   "cell_type": "code",
   "execution_count": 5,
   "id": "19a428e9",
   "metadata": {},
   "outputs": [],
   "source": [
    "record_count = {}\n",
    "for i in record:\n",
    "    if i in record_count:\n",
    "        record_count[i] +=1\n",
    "        \n",
    "    else:\n",
    "        record_count[i] = 1"
   ]
  },
  {
   "cell_type": "code",
   "execution_count": 6,
   "id": "1ffbf64f",
   "metadata": {},
   "outputs": [
    {
     "data": {
      "text/plain": [
       "{0.8099999999999999: 100}"
      ]
     },
     "execution_count": 6,
     "metadata": {},
     "output_type": "execute_result"
    }
   ],
   "source": [
    "record_count"
   ]
  },
  {
   "cell_type": "code",
   "execution_count": null,
   "id": "8a2d066d",
   "metadata": {},
   "outputs": [],
   "source": []
  }
 ],
 "metadata": {
  "kernelspec": {
   "display_name": "Python 3 (ipykernel)",
   "language": "python",
   "name": "python3"
  },
  "language_info": {
   "codemirror_mode": {
    "name": "ipython",
    "version": 3
   },
   "file_extension": ".py",
   "mimetype": "text/x-python",
   "name": "python",
   "nbconvert_exporter": "python",
   "pygments_lexer": "ipython3",
   "version": "3.8.13"
  }
 },
 "nbformat": 4,
 "nbformat_minor": 5
}
