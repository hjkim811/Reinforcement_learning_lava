{
 "cells": [
  {
   "cell_type": "markdown",
   "id": "a8519b84",
   "metadata": {},
   "source": [
    "#### 본 파일은 2022_1_Data Science and Reinforcement Learning 최종과제 1차 제출을 위한 description 파일입니다.   \n",
    "#### agent 재훈련을 위한 코드가 수록되어있으며, 자세한 실행 방법은 주석과 markdown으로 작성하였습니다. "
   ]
  },
  {
   "cell_type": "code",
   "execution_count": 1,
   "id": "4235781b",
   "metadata": {},
   "outputs": [],
   "source": [
    "import numpy as np\n",
    "import gym\n",
    "import random\n",
    "from lava_grid import ZigZag6x10\n",
    "from tqdm import tqdm\n",
    "import math\n",
    "from agent_lava import agent\n",
    "import matplotlib.pyplot as plt"
   ]
  },
  {
   "cell_type": "markdown",
   "id": "8ba9d9cd",
   "metadata": {},
   "source": [
    "# 1. Performance"
   ]
  },
  {
   "cell_type": "markdown",
   "id": "dcd9520b",
   "metadata": {},
   "source": [
    "### seed setting"
   ]
  },
  {
   "cell_type": "code",
   "execution_count": 2,
   "id": "44977d44",
   "metadata": {},
   "outputs": [],
   "source": [
    "np.random.seed(None)\n",
    "random.seed(None)"
   ]
  },
  {
   "cell_type": "markdown",
   "id": "32740944",
   "metadata": {},
   "source": [
    "### defult environment setting"
   ]
  },
  {
   "cell_type": "code",
   "execution_count": 3,
   "id": "6db4c20c",
   "metadata": {},
   "outputs": [],
   "source": [
    "# default setting\n",
    "max_steps = 100\n",
    "stochasticity = 0 # probability of the selected action failing and instead executing any of the remaining 3\n",
    "no_render = True\n",
    "\n",
    "env = ZigZag6x10(max_steps=max_steps, act_fail_prob=stochasticity, goal=(5, 9), numpy_state=False)\n",
    "s = env.reset()\n",
    "done = False\n",
    "cum_reward = 0.0"
   ]
  },
  {
   "cell_type": "markdown",
   "id": "a13315db",
   "metadata": {},
   "source": [
    "### build agent\n",
    "* Code has been written to automatically set the initial value(Q table) when the agent is created.  \n",
    "* 에이전트가 생성될 때 초깃값(Q table)이 자동으로 설정되도록 코드를 작성하였습니다."
   ]
  },
  {
   "cell_type": "code",
   "execution_count": 4,
   "id": "cdde78f7",
   "metadata": {},
   "outputs": [
    {
     "name": "stderr",
     "output_type": "stream",
     "text": [
      "100%|█████████████████████████████████████████████████████| 3000/3000 [00:06<00:00, 466.37it/s]\n"
     ]
    }
   ],
   "source": [
    "\"\"\" Your agent\"\"\"\n",
    "my_agent = agent()"
   ]
  },
  {
   "cell_type": "markdown",
   "id": "9558f93f",
   "metadata": {},
   "source": [
    "### test 1 episode"
   ]
  },
  {
   "cell_type": "code",
   "execution_count": 5,
   "id": "e9c7064d",
   "metadata": {},
   "outputs": [
    {
     "name": "stdout",
     "output_type": "stream",
     "text": [
      "total reward: 0.8099999999999999\n"
     ]
    }
   ],
   "source": [
    "# moving costs -0.01, falling in lava -1, reaching goal +1\n",
    "# final reward is number_of_steps / max_steps\n",
    "while not done:\n",
    "    action = my_agent.action(s)\n",
    "    # action = random.randrange(4): random actions\n",
    "    ns, reward, done, _ = env.step(action)\n",
    "    cum_reward += reward\n",
    "    s = ns\n",
    "print(f\"total reward: {cum_reward}\")"
   ]
  },
  {
   "cell_type": "markdown",
   "id": "b58a0ad4",
   "metadata": {},
   "source": [
    "#### test n episode"
   ]
  },
  {
   "cell_type": "code",
   "execution_count": 6,
   "id": "9a9bc729",
   "metadata": {},
   "outputs": [],
   "source": [
    "n = 50\n",
    "record = []\n",
    "for i in range(n):\n",
    "    while not done:\n",
    "        action = my_agent.action(s)\n",
    "        # action = random.randrange(4): random actions\n",
    "        ns, reward, done, _ = env.step(action)\n",
    "        cum_reward += reward\n",
    "        s = ns\n",
    "#     print(f\"total reward: {cum_reward}\")\n",
    "    record.append(cum_reward)"
   ]
  },
  {
   "cell_type": "markdown",
   "id": "5b2293f0",
   "metadata": {},
   "source": [
    "#### result "
   ]
  },
  {
   "cell_type": "code",
   "execution_count": 7,
   "id": "1893be01",
   "metadata": {},
   "outputs": [
    {
     "name": "stdout",
     "output_type": "stream",
     "text": [
      "{0.8099999999999999: 50}\n"
     ]
    }
   ],
   "source": [
    "# print record count\n",
    "record_count = {}\n",
    "for i in record:\n",
    "    if i in record_count:\n",
    "        record_count[i] +=1\n",
    "        \n",
    "    else:\n",
    "        record_count[i] = 1\n",
    "print(record_count)"
   ]
  },
  {
   "cell_type": "code",
   "execution_count": 8,
   "id": "d8ec28c7",
   "metadata": {},
   "outputs": [
    {
     "data": {
      "image/png": "[encoded data removed]",
      "text/plain": [
       "<Figure size 432x288 with 1 Axes>"
      ]
     },
     "metadata": {
      "needs_background": "light"
     },
     "output_type": "display_data"
    }
   ],
   "source": [
    "# plotting result\n",
    "plt.plot(record)\n",
    "plt.show()"
   ]
  },
  {
   "cell_type": "markdown",
   "id": "c764631f",
   "metadata": {},
   "source": [
    "# 2. Sample Efficiency"
   ]
  },
  {
   "cell_type": "markdown",
   "id": "c9fee194",
   "metadata": {},
   "source": [
    "### seed setting"
   ]
  },
  {
   "cell_type": "code",
   "execution_count": 9,
   "id": "b22ce20f",
   "metadata": {},
   "outputs": [],
   "source": [
    "np.random.seed(None)\n",
    "random.seed(None)"
   ]
  },
  {
   "cell_type": "markdown",
   "id": "37fe8de8",
   "metadata": {},
   "source": [
    "### build agent & reset Q table"
   ]
  },
  {
   "cell_type": "code",
   "execution_count": 10,
   "id": "61a3e19f",
   "metadata": {},
   "outputs": [],
   "source": [
    "\"\"\" Your agent\"\"\"\n",
    "my_agent = agent(set_parameter=False)\n",
    "my_agent.reset_q_table()"
   ]
  },
  {
   "cell_type": "code",
   "execution_count": 11,
   "id": "63511b1e",
   "metadata": {
    "scrolled": true
   },
   "outputs": [
    {
     "name": "stdout",
     "output_type": "stream",
     "text": [
      "Q table of 0 state : {0: 0, 1: 0, 2: 0, 3: 0}\n",
      "Q table of 1 state : {0: 0, 1: 0, 2: 0, 3: 0}\n",
      "Q table of 2 state : {0: 0, 1: 0, 2: 0, 3: 0}\n",
      "Q table of 3 state : {0: 0, 1: 0, 2: 0, 3: 0}\n",
      "Q table of 4 state : {0: 0, 1: 0, 2: 0, 3: 0}\n",
      "Q table of 5 state : {0: 0, 1: 0, 2: 0, 3: 0}\n",
      "Q table of 6 state : {0: 0, 1: 0, 2: 0, 3: 0}\n",
      "Q table of 7 state : {0: 0, 1: 0, 2: 0, 3: 0}\n",
      "Q table of 8 state : {0: 0, 1: 0, 2: 0, 3: 0}\n",
      "Q table of 9 state : {0: 0, 1: 0, 2: 0, 3: 0}\n",
      "Q table of 10 state : {0: 0, 1: 0, 2: 0, 3: 0}\n",
      "Q table of 11 state : {0: 0, 1: 0, 2: 0, 3: 0}\n",
      "Q table of 12 state : {0: 0, 1: 0, 2: 0, 3: 0}\n",
      "Q table of 13 state : {0: 0, 1: 0, 2: 0, 3: 0}\n",
      "Q table of 14 state : {0: 0, 1: 0, 2: 0, 3: 0}\n",
      "Q table of 15 state : {0: 0, 1: 0, 2: 0, 3: 0}\n",
      "Q table of 16 state : {0: 0, 1: 0, 2: 0, 3: 0}\n",
      "Q table of 17 state : {0: 0, 1: 0, 2: 0, 3: 0}\n",
      "Q table of 18 state : {0: 0, 1: 0, 2: 0, 3: 0}\n",
      "Q table of 19 state : {0: 0, 1: 0, 2: 0, 3: 0}\n",
      "Q table of 20 state : {0: 0, 1: 0, 2: 0, 3: 0}\n",
      "Q table of 21 state : {0: 0, 1: 0, 2: 0, 3: 0}\n",
      "Q table of 22 state : {0: 0, 1: 0, 2: 0, 3: 0}\n",
      "Q table of 23 state : {0: 0, 1: 0, 2: 0, 3: 0}\n",
      "Q table of 24 state : {0: 0, 1: 0, 2: 0, 3: 0}\n",
      "Q table of 25 state : {0: 0, 1: 0, 2: 0, 3: 0}\n",
      "Q table of 26 state : {0: 0, 1: 0, 2: 0, 3: 0}\n",
      "Q table of 27 state : {0: 0, 1: 0, 2: 0, 3: 0}\n",
      "Q table of 28 state : {0: 0, 1: 0, 2: 0, 3: 0}\n",
      "Q table of 29 state : {0: 0, 1: 0, 2: 0, 3: 0}\n",
      "Q table of 30 state : {0: 0, 1: 0, 2: 0, 3: 0}\n",
      "Q table of 31 state : {0: 0, 1: 0, 2: 0, 3: 0}\n",
      "Q table of 32 state : {0: 0, 1: 0, 2: 0, 3: 0}\n",
      "Q table of 33 state : {0: 0, 1: 0, 2: 0, 3: 0}\n",
      "Q table of 34 state : {0: 0, 1: 0, 2: 0, 3: 0}\n",
      "Q table of 35 state : {0: 0, 1: 0, 2: 0, 3: 0}\n",
      "Q table of 36 state : {0: 0, 1: 0, 2: 0, 3: 0}\n",
      "Q table of 37 state : {0: 0, 1: 0, 2: 0, 3: 0}\n",
      "Q table of 38 state : {0: 0, 1: 0, 2: 0, 3: 0}\n",
      "Q table of 39 state : {0: 0, 1: 0, 2: 0, 3: 0}\n",
      "Q table of 40 state : {0: 0, 1: 0, 2: 0, 3: 0}\n",
      "Q table of 41 state : {0: 0, 1: 0, 2: 0, 3: 0}\n",
      "Q table of 42 state : {0: 0, 1: 0, 2: 0, 3: 0}\n",
      "Q table of 43 state : {0: 0, 1: 0, 2: 0, 3: 0}\n",
      "Q table of 44 state : {0: 0, 1: 0, 2: 0, 3: 0}\n",
      "Q table of 45 state : {0: 0, 1: 0, 2: 0, 3: 0}\n",
      "Q table of 46 state : {0: 0, 1: 0, 2: 0, 3: 0}\n",
      "Q table of 47 state : {0: 0, 1: 0, 2: 0, 3: 0}\n",
      "Q table of 48 state : {0: 0, 1: 0, 2: 0, 3: 0}\n",
      "Q table of 49 state : {0: 0, 1: 0, 2: 0, 3: 0}\n",
      "Q table of 50 state : {0: 0, 1: 0, 2: 0, 3: 0}\n",
      "Q table of 51 state : {0: 0, 1: 0, 2: 0, 3: 0}\n",
      "Q table of 52 state : {0: 0, 1: 0, 2: 0, 3: 0}\n",
      "Q table of 53 state : {0: 0, 1: 0, 2: 0, 3: 0}\n",
      "Q table of 54 state : {0: 0, 1: 0, 2: 0, 3: 0}\n",
      "Q table of 55 state : {0: 0, 1: 0, 2: 0, 3: 0}\n",
      "Q table of 56 state : {0: 0, 1: 0, 2: 0, 3: 0}\n",
      "Q table of 57 state : {0: 0, 1: 0, 2: 0, 3: 0}\n",
      "Q table of 58 state : {0: 0, 1: 0, 2: 0, 3: 0}\n",
      "Q table of 59 state : {0: 0, 1: 0, 2: 0, 3: 0}\n"
     ]
    }
   ],
   "source": [
    "# check initialized Q table\n",
    "initialized_q_table = my_agent.q_table\n",
    "\n",
    "for i in initialized_q_table:\n",
    "    print(f\"Q table of {i} state : {initialized_q_table[i]}\")"
   ]
  },
  {
   "cell_type": "markdown",
   "id": "0bb12da8",
   "metadata": {},
   "source": [
    "### train episode"
   ]
  },
  {
   "cell_type": "code",
   "execution_count": 12,
   "id": "89c2afd3",
   "metadata": {},
   "outputs": [
    {
     "name": "stderr",
     "output_type": "stream",
     "text": [
      "100%|█████████████████████████████████████████████████████| 3000/3000 [00:06<00:00, 436.49it/s]\n"
     ]
    }
   ],
   "source": [
    "# number of episode\n",
    "num_episode = 3000\n",
    "# record reward of each episode\n",
    "record = my_agent.activate_learn(num_episode) \n"
   ]
  },
  {
   "cell_type": "markdown",
   "id": "7059229e",
   "metadata": {},
   "source": [
    "### result(AUC)"
   ]
  },
  {
   "cell_type": "code",
   "execution_count": 13,
   "id": "fe28ad40",
   "metadata": {},
   "outputs": [
    {
     "data": {
      "image/png": "[encoded data removed]",
      "text/plain": [
       "<Figure size 432x288 with 1 Axes>"
      ]
     },
     "metadata": {
      "needs_background": "light"
     },
     "output_type": "display_data"
    }
   ],
   "source": [
    "# plotting episodic return\n",
    "# total 3000 episode\n",
    "plt.plot(record[:])\n",
    "plt.show()"
   ]
  },
  {
   "cell_type": "markdown",
   "id": "da6609a1",
   "metadata": {},
   "source": [
    "### sklearn AUC metric"
   ]
  },
  {
   "cell_type": "code",
   "execution_count": 14,
   "id": "8d65d2fd",
   "metadata": {},
   "outputs": [
    {
     "data": {
      "text/plain": [
       "2298.0199999999995"
      ]
     },
     "execution_count": 14,
     "metadata": {},
     "output_type": "execute_result"
    }
   ],
   "source": [
    "from sklearn import metrics\n",
    "\n",
    "metrics.auc([i for i in range(len(record))], record)"
   ]
  },
  {
   "cell_type": "markdown",
   "id": "e612f8b3",
   "metadata": {},
   "source": [
    "# 3. References"
   ]
  },
  {
   "cell_type": "markdown",
   "id": "de7d4ba0",
   "metadata": {},
   "source": [
    "[1] Watkins, Christopher J. C. H., and Peter Dayan. “Q-Learning - Machine Learning.” SpringerLink. Kluwer Academic Publishers. Accessed June 8, 2022. https://link.springer.com/article/10.1007/BF00992698.   \n",
    "\n",
    "[2] Michaeltinsley. “Michaeltinsley/Gridworld-with-Q-Learning-Reinforcement-Learning-.” GitHub. Accessed June 8, 2022. https://github.com/michaeltinsley/Gridworld-with-Q-Learning-Reinforcement-Learning-. "
   ]
  }
 ],
 "metadata": {
  "kernelspec": {
   "display_name": "Python 3 (ipykernel)",
   "language": "python",
   "name": "python3"
  },
  "language_info": {
   "codemirror_mode": {
    "name": "ipython",
    "version": 3
   },
   "file_extension": ".py",
   "mimetype": "text/x-python",
   "name": "python",
   "nbconvert_exporter": "python",
   "pygments_lexer": "ipython3",
   "version": "3.8.13"
  }
 },
 "nbformat": 4,
 "nbformat_minor": 5
}
