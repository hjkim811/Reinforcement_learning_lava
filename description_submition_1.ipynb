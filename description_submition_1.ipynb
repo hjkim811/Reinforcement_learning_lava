{
 "cells": [
  {
   "cell_type": "markdown",
   "id": "820f9b09",
   "metadata": {},
   "source": [
    "# 본 파일은 \n",
    "# Data Science and Reinforcement Learning (2022년도, 1학기, M3239.004100_001)\n",
    "# 최종 1차 과제제출을 위한 description 파일입니다.\n",
    "# agent 재훈련을 위한 코드가 수록되어있으며, \n",
    "# 자세한 실행 방법은 주석으로 처리하였습니다."
   ]
  },
  {
   "cell_type": "code",
   "execution_count": 1,
   "id": "e17a60f2",
   "metadata": {},
   "outputs": [],
   "source": [
    "import numpy as np\n",
    "import gym\n",
    "import random\n",
    "from lava_grid import ZigZag6x10\n",
    "from tqdm import tqdm\n",
    "import math\n",
    "from agent_lava_v2 import agent\n",
    "import matplotlib.pyplot as plt"
   ]
  },
  {
   "cell_type": "markdown",
   "id": "d514e013",
   "metadata": {},
   "source": [
    "# 1. Performance"
   ]
  },
  {
   "cell_type": "markdown",
   "id": "e47408a8",
   "metadata": {},
   "source": [
    "#### seed setting"
   ]
  },
  {
   "cell_type": "code",
   "execution_count": 2,
   "id": "0c034506",
   "metadata": {},
   "outputs": [],
   "source": [
    "np.random.seed(0)\n",
    "random.seed(0)"
   ]
  },
  {
   "cell_type": "markdown",
   "id": "b84ff421",
   "metadata": {},
   "source": [
    "#### defult environment setting"
   ]
  },
  {
   "cell_type": "code",
   "execution_count": 3,
   "id": "27333f61",
   "metadata": {},
   "outputs": [],
   "source": [
    "# default setting\n",
    "max_steps = 100\n",
    "stochasticity = 0 # probability of the selected action failing and instead executing any of the remaining 3\n",
    "no_render = True\n",
    "\n",
    "env = ZigZag6x10(max_steps=max_steps, act_fail_prob=stochasticity, goal=(5, 9), numpy_state=False)\n",
    "s = env.reset()\n",
    "done = False\n",
    "cum_reward = 0.0"
   ]
  },
  {
   "cell_type": "markdown",
   "id": "c0e9dfb6",
   "metadata": {},
   "source": [
    "#### build agent"
   ]
  },
  {
   "cell_type": "code",
   "execution_count": 4,
   "id": "efba5d2f",
   "metadata": {},
   "outputs": [],
   "source": [
    "\"\"\" Your agent\"\"\"\n",
    "my_agent = agent()"
   ]
  },
  {
   "cell_type": "markdown",
   "id": "46cfd05d",
   "metadata": {},
   "source": [
    "#### test 1 episode"
   ]
  },
  {
   "cell_type": "code",
   "execution_count": 5,
   "id": "e34d14dc",
   "metadata": {},
   "outputs": [
    {
     "name": "stdout",
     "output_type": "stream",
     "text": [
      "total reward: 0.8099999999999999\n"
     ]
    }
   ],
   "source": [
    "# moving costs -0.01, falling in lava -1, reaching goal +1\n",
    "# final reward is number_of_steps / max_steps\n",
    "while not done:\n",
    "    action = my_agent.action(s)\n",
    "    # action = random.randrange(4): random actions\n",
    "    ns, reward, done, _ = env.step(action)\n",
    "    cum_reward += reward\n",
    "    s = ns\n",
    "print(f\"total reward: {cum_reward}\")"
   ]
  },
  {
   "cell_type": "markdown",
   "id": "7521c283",
   "metadata": {},
   "source": [
    "#### test n episode"
   ]
  },
  {
   "cell_type": "code",
   "execution_count": 6,
   "id": "a7c7ffbb",
   "metadata": {},
   "outputs": [],
   "source": [
    "n = 50\n",
    "record = []\n",
    "for i in range(n):\n",
    "    while not done:\n",
    "        action = my_agent.action(s)\n",
    "        # action = random.randrange(4): random actions\n",
    "        ns, reward, done, _ = env.step(action)\n",
    "        cum_reward += reward\n",
    "        s = ns\n",
    "#     print(f\"total reward: {cum_reward}\")\n",
    "    record.append(cum_reward)"
   ]
  },
  {
   "cell_type": "markdown",
   "id": "53f49334",
   "metadata": {},
   "source": [
    "#### result "
   ]
  },
  {
   "cell_type": "code",
   "execution_count": 7,
   "id": "d4e364ea",
   "metadata": {},
   "outputs": [
    {
     "name": "stdout",
     "output_type": "stream",
     "text": [
      "[0.8099999999999999, 0.8099999999999999, 0.8099999999999999, 0.8099999999999999, 0.8099999999999999, 0.8099999999999999, 0.8099999999999999, 0.8099999999999999, 0.8099999999999999, 0.8099999999999999, 0.8099999999999999, 0.8099999999999999, 0.8099999999999999, 0.8099999999999999, 0.8099999999999999, 0.8099999999999999, 0.8099999999999999, 0.8099999999999999, 0.8099999999999999, 0.8099999999999999, 0.8099999999999999, 0.8099999999999999, 0.8099999999999999, 0.8099999999999999, 0.8099999999999999, 0.8099999999999999, 0.8099999999999999, 0.8099999999999999, 0.8099999999999999, 0.8099999999999999, 0.8099999999999999, 0.8099999999999999, 0.8099999999999999, 0.8099999999999999, 0.8099999999999999, 0.8099999999999999, 0.8099999999999999, 0.8099999999999999, 0.8099999999999999, 0.8099999999999999, 0.8099999999999999, 0.8099999999999999, 0.8099999999999999, 0.8099999999999999, 0.8099999999999999, 0.8099999999999999, 0.8099999999999999, 0.8099999999999999, 0.8099999999999999, 0.8099999999999999]\n"
     ]
    }
   ],
   "source": [
    "# result of n episode\n",
    "print(record)"
   ]
  },
  {
   "cell_type": "code",
   "execution_count": 8,
   "id": "23813e64",
   "metadata": {},
   "outputs": [
    {
     "name": "stdout",
     "output_type": "stream",
     "text": [
      "{0.8099999999999999: 50}\n"
     ]
    }
   ],
   "source": [
    "# print record count\n",
    "record_count = {}\n",
    "for i in record:\n",
    "    if i in record_count:\n",
    "        record_count[i] +=1\n",
    "        \n",
    "    else:\n",
    "        record_count[i] = 1\n",
    "print(record_count)"
   ]
  },
  {
   "cell_type": "code",
   "execution_count": 9,
   "id": "ce59d865",
   "metadata": {},
   "outputs": [
    {
     "data": {
      "image/png": "[encoded data removed]",
      "text/plain": [
       "<Figure size 432x288 with 1 Axes>"
      ]
     },
     "metadata": {
      "needs_background": "light"
     },
     "output_type": "display_data"
    }
   ],
   "source": [
    "# plotting result\n",
    "plt.plot(record)\n",
    "plt.show()"
   ]
  },
  {
   "cell_type": "markdown",
   "id": "c417c33d",
   "metadata": {},
   "source": [
    "# 2. Sample Efficiency"
   ]
  },
  {
   "cell_type": "markdown",
   "id": "6e2d06a9",
   "metadata": {},
   "source": [
    "#### build agent & reset Q table"
   ]
  },
  {
   "cell_type": "code",
   "execution_count": 127,
   "id": "621f9759",
   "metadata": {},
   "outputs": [],
   "source": [
    "\"\"\" Your agent\"\"\"\n",
    "my_agent = agent(epsilon=0)\n",
    "my_agent.reset_q_table()"
   ]
  },
  {
   "cell_type": "code",
   "execution_count": 117,
   "id": "39d3aa56",
   "metadata": {
    "scrolled": true
   },
   "outputs": [
    {
     "name": "stdout",
     "output_type": "stream",
     "text": [
      "Q table of 0 state : {0: 0, 1: 0, 2: 0, 3: 0}\n",
      "Q table of 1 state : {0: 0, 1: 0, 2: 0, 3: 0}\n",
      "Q table of 2 state : {0: 0, 1: 0, 2: 0, 3: 0}\n",
      "Q table of 3 state : {0: 0, 1: 0, 2: 0, 3: 0}\n",
      "Q table of 4 state : {0: 0, 1: 0, 2: 0, 3: 0}\n",
      "Q table of 5 state : {0: 0, 1: 0, 2: 0, 3: 0}\n",
      "Q table of 6 state : {0: 0, 1: 0, 2: 0, 3: 0}\n",
      "Q table of 7 state : {0: 0, 1: 0, 2: 0, 3: 0}\n",
      "Q table of 8 state : {0: 0, 1: 0, 2: 0, 3: 0}\n",
      "Q table of 9 state : {0: 0, 1: 0, 2: 0, 3: 0}\n",
      "Q table of 10 state : {0: 0, 1: 0, 2: 0, 3: 0}\n",
      "Q table of 11 state : {0: 0, 1: 0, 2: 0, 3: 0}\n",
      "Q table of 12 state : {0: 0, 1: 0, 2: 0, 3: 0}\n",
      "Q table of 13 state : {0: 0, 1: 0, 2: 0, 3: 0}\n",
      "Q table of 14 state : {0: 0, 1: 0, 2: 0, 3: 0}\n",
      "Q table of 15 state : {0: 0, 1: 0, 2: 0, 3: 0}\n",
      "Q table of 16 state : {0: 0, 1: 0, 2: 0, 3: 0}\n",
      "Q table of 17 state : {0: 0, 1: 0, 2: 0, 3: 0}\n",
      "Q table of 18 state : {0: 0, 1: 0, 2: 0, 3: 0}\n",
      "Q table of 19 state : {0: 0, 1: 0, 2: 0, 3: 0}\n",
      "Q table of 20 state : {0: 0, 1: 0, 2: 0, 3: 0}\n",
      "Q table of 21 state : {0: 0, 1: 0, 2: 0, 3: 0}\n",
      "Q table of 22 state : {0: 0, 1: 0, 2: 0, 3: 0}\n",
      "Q table of 23 state : {0: 0, 1: 0, 2: 0, 3: 0}\n",
      "Q table of 24 state : {0: 0, 1: 0, 2: 0, 3: 0}\n",
      "Q table of 25 state : {0: 0, 1: 0, 2: 0, 3: 0}\n",
      "Q table of 26 state : {0: 0, 1: 0, 2: 0, 3: 0}\n",
      "Q table of 27 state : {0: 0, 1: 0, 2: 0, 3: 0}\n",
      "Q table of 28 state : {0: 0, 1: 0, 2: 0, 3: 0}\n",
      "Q table of 29 state : {0: 0, 1: 0, 2: 0, 3: 0}\n",
      "Q table of 30 state : {0: 0, 1: 0, 2: 0, 3: 0}\n",
      "Q table of 31 state : {0: 0, 1: 0, 2: 0, 3: 0}\n",
      "Q table of 32 state : {0: 0, 1: 0, 2: 0, 3: 0}\n",
      "Q table of 33 state : {0: 0, 1: 0, 2: 0, 3: 0}\n",
      "Q table of 34 state : {0: 0, 1: 0, 2: 0, 3: 0}\n",
      "Q table of 35 state : {0: 0, 1: 0, 2: 0, 3: 0}\n",
      "Q table of 36 state : {0: 0, 1: 0, 2: 0, 3: 0}\n",
      "Q table of 37 state : {0: 0, 1: 0, 2: 0, 3: 0}\n",
      "Q table of 38 state : {0: 0, 1: 0, 2: 0, 3: 0}\n",
      "Q table of 39 state : {0: 0, 1: 0, 2: 0, 3: 0}\n",
      "Q table of 40 state : {0: 0, 1: 0, 2: 0, 3: 0}\n",
      "Q table of 41 state : {0: 0, 1: 0, 2: 0, 3: 0}\n",
      "Q table of 42 state : {0: 0, 1: 0, 2: 0, 3: 0}\n",
      "Q table of 43 state : {0: 0, 1: 0, 2: 0, 3: 0}\n",
      "Q table of 44 state : {0: 0, 1: 0, 2: 0, 3: 0}\n",
      "Q table of 45 state : {0: 0, 1: 0, 2: 0, 3: 0}\n",
      "Q table of 46 state : {0: 0, 1: 0, 2: 0, 3: 0}\n",
      "Q table of 47 state : {0: 0, 1: 0, 2: 0, 3: 0}\n",
      "Q table of 48 state : {0: 0, 1: 0, 2: 0, 3: 0}\n",
      "Q table of 49 state : {0: 0, 1: 0, 2: 0, 3: 0}\n",
      "Q table of 50 state : {0: 0, 1: 0, 2: 0, 3: 0}\n",
      "Q table of 51 state : {0: 0, 1: 0, 2: 0, 3: 0}\n",
      "Q table of 52 state : {0: 0, 1: 0, 2: 0, 3: 0}\n",
      "Q table of 53 state : {0: 0, 1: 0, 2: 0, 3: 0}\n",
      "Q table of 54 state : {0: 0, 1: 0, 2: 0, 3: 0}\n",
      "Q table of 55 state : {0: 0, 1: 0, 2: 0, 3: 0}\n",
      "Q table of 56 state : {0: 0, 1: 0, 2: 0, 3: 0}\n",
      "Q table of 57 state : {0: 0, 1: 0, 2: 0, 3: 0}\n",
      "Q table of 58 state : {0: 0, 1: 0, 2: 0, 3: 0}\n",
      "Q table of 59 state : {0: 0, 1: 0, 2: 0, 3: 0}\n"
     ]
    }
   ],
   "source": [
    "initialized_q_table = my_agent.q_table\n",
    "\n",
    "for i in initialized_q_table:\n",
    "    print(f\"Q table of {i} state : {initialized_q_table[i]}\")"
   ]
  },
  {
   "cell_type": "markdown",
   "id": "7c3063ee",
   "metadata": {},
   "source": [
    "#### seed setting"
   ]
  },
  {
   "cell_type": "code",
   "execution_count": 118,
   "id": "e77d37e0",
   "metadata": {},
   "outputs": [],
   "source": [
    "np.random.seed(None)\n",
    "random.seed(None)"
   ]
  },
  {
   "cell_type": "markdown",
   "id": "22add3f9",
   "metadata": {},
   "source": [
    "#### train n episode"
   ]
  },
  {
   "cell_type": "code",
   "execution_count": 108,
   "id": "7f0f7538",
   "metadata": {},
   "outputs": [],
   "source": [
    "recordrecord6 = []\n",
    "\n",
    "for i in range(10):\n",
    "    num_episode = 3000\n",
    "    # record reward of each episode\n",
    "    record = my_agent.activate_learn(num_episode) \n",
    "    recordrecord6.append(sum(record))"
   ]
  },
  {
   "cell_type": "code",
   "execution_count": 46,
   "id": "30a3797e",
   "metadata": {},
   "outputs": [
    {
     "data": {
      "text/plain": [
       "2296.3999999998814"
      ]
     },
     "execution_count": 46,
     "metadata": {},
     "output_type": "execute_result"
    }
   ],
   "source": [
    "# AUC of 1 train\n",
    "sum(record)"
   ]
  },
  {
   "cell_type": "code",
   "execution_count": 100,
   "id": "f6395e4a",
   "metadata": {},
   "outputs": [
    {
     "data": {
      "text/plain": [
       "2298.8709999998814"
      ]
     },
     "execution_count": 100,
     "metadata": {},
     "output_type": "execute_result"
    }
   ],
   "source": [
    "sum(recordrecord)/10 #0.001"
   ]
  },
  {
   "cell_type": "code",
   "execution_count": 101,
   "id": "e3dc8a84",
   "metadata": {},
   "outputs": [
    {
     "data": {
      "text/plain": [
       "2286.3729999998823"
      ]
     },
     "execution_count": 101,
     "metadata": {},
     "output_type": "execute_result"
    }
   ],
   "source": [
    "sum(recordrecord2)/10 #0.005"
   ]
  },
  {
   "cell_type": "code",
   "execution_count": 102,
   "id": "7b93d7c0",
   "metadata": {},
   "outputs": [
    {
     "data": {
      "text/plain": [
       "2262.660999999884"
      ]
     },
     "execution_count": 102,
     "metadata": {},
     "output_type": "execute_result"
    }
   ],
   "source": [
    "sum(recordrecord3)/10 #0.01"
   ]
  },
  {
   "cell_type": "code",
   "execution_count": 103,
   "id": "d9883b22",
   "metadata": {},
   "outputs": [
    {
     "data": {
      "text/plain": [
       "2301.968999999881"
      ]
     },
     "execution_count": 103,
     "metadata": {},
     "output_type": "execute_result"
    }
   ],
   "source": [
    "sum(recordrecord4)/10 #0.01"
   ]
  },
  {
   "cell_type": "code",
   "execution_count": 104,
   "id": "ef483b19",
   "metadata": {},
   "outputs": [
    {
     "data": {
      "text/plain": [
       "2302.562999999881"
      ]
     },
     "execution_count": 104,
     "metadata": {},
     "output_type": "execute_result"
    }
   ],
   "source": [
    "sum(recordrecord5)/10 #0.01"
   ]
  },
  {
   "cell_type": "code",
   "execution_count": 71,
   "id": "21589e55",
   "metadata": {},
   "outputs": [
    {
     "data": {
      "text/plain": [
       "20683.30499999893"
      ]
     },
     "execution_count": 71,
     "metadata": {},
     "output_type": "execute_result"
    }
   ],
   "source": [
    "from sklearn import metrics\n",
    "\n",
    "metrics.auc([i for i in range(len(recordrecord3))], recordrecord3)"
   ]
  },
  {
   "cell_type": "code",
   "execution_count": 72,
   "id": "ab93bb17",
   "metadata": {},
   "outputs": [
    {
     "data": {
      "image/png": "[encoded data removed]",
      "text/plain": [
       "<Figure size 432x288 with 1 Axes>"
      ]
     },
     "metadata": {
      "needs_background": "light"
     },
     "output_type": "display_data"
    }
   ],
   "source": [
    "# plotting result\n",
    "plt.plot(recordrecord3)\n",
    "plt.show()"
   ]
  },
  {
   "cell_type": "code",
   "execution_count": 79,
   "id": "3ed304f0",
   "metadata": {},
   "outputs": [
    {
     "data": {
      "text/plain": [
       "20688.219999998928"
      ]
     },
     "execution_count": 79,
     "metadata": {},
     "output_type": "execute_result"
    }
   ],
   "source": [
    "metrics.auc([i for i in range(len(recordrecord))], recordrecord) #0.001"
   ]
  },
  {
   "cell_type": "code",
   "execution_count": 84,
   "id": "e9fca10a",
   "metadata": {},
   "outputs": [
    {
     "data": {
      "text/plain": [
       "20574.73999999894"
      ]
     },
     "execution_count": 84,
     "metadata": {},
     "output_type": "execute_result"
    }
   ],
   "source": [
    "metrics.auc([i for i in range(len(recordrecord2))], recordrecord2) #0.005"
   ]
  },
  {
   "cell_type": "code",
   "execution_count": 89,
   "id": "c7187862",
   "metadata": {},
   "outputs": [
    {
     "data": {
      "text/plain": [
       "20358.449999998957"
      ]
     },
     "execution_count": 89,
     "metadata": {},
     "output_type": "execute_result"
    }
   ],
   "source": [
    "metrics.auc([i for i in range(len(recordrecord3))], recordrecord3) #0.01"
   ]
  },
  {
   "cell_type": "code",
   "execution_count": 94,
   "id": "9bcf6405",
   "metadata": {},
   "outputs": [
    {
     "data": {
      "text/plain": [
       "20715.669999998925"
      ]
     },
     "execution_count": 94,
     "metadata": {},
     "output_type": "execute_result"
    }
   ],
   "source": [
    "metrics.auc([i for i in range(len(recordrecord4))], recordrecord4) #0.0005"
   ]
  },
  {
   "cell_type": "code",
   "execution_count": 99,
   "id": "460b2d7f",
   "metadata": {},
   "outputs": [
    {
     "data": {
      "text/plain": [
       "20722.299999998926"
      ]
     },
     "execution_count": 99,
     "metadata": {},
     "output_type": "execute_result"
    }
   ],
   "source": [
    "metrics.auc([i for i in range(len(recordrecord5))], recordrecord5) #0.0001"
   ]
  },
  {
   "cell_type": "code",
   "execution_count": 109,
   "id": "020662a0",
   "metadata": {},
   "outputs": [
    {
     "data": {
      "text/plain": [
       "20761.89999999893"
      ]
     },
     "execution_count": 109,
     "metadata": {},
     "output_type": "execute_result"
    }
   ],
   "source": [
    "metrics.auc([i for i in range(len(recordrecord6))], recordrecord6)#0"
   ]
  },
  {
   "cell_type": "code",
   "execution_count": 112,
   "id": "62fc173a",
   "metadata": {
    "scrolled": true
   },
   "outputs": [
    {
     "data": {
      "text/plain": [
       "[-1.06,\n",
       " -1.06,\n",
       " -1.04,\n",
       " -1.33,\n",
       " -1.5000000000000002,\n",
       " -1.5100000000000002,\n",
       " -1.5100000000000002,\n",
       " -1.8900000000000006,\n",
       " -1.0000000000000007,\n",
       " -1.4200000000000002,\n",
       " -1.6100000000000003,\n",
       " -1.0000000000000007,\n",
       " -1.6100000000000003,\n",
       " -1.9900000000000007,\n",
       " -1.9200000000000006,\n",
       " -1.8600000000000005,\n",
       " -1.0000000000000007,\n",
       " -1.5300000000000002,\n",
       " -1.0000000000000007,\n",
       " -1.0000000000000007,\n",
       " -1.9800000000000006,\n",
       " -1.0000000000000007,\n",
       " -1.8200000000000005,\n",
       " -1.0000000000000007,\n",
       " -1.0000000000000007,\n",
       " -1.0000000000000007,\n",
       " -1.0000000000000007,\n",
       " -1.8800000000000006,\n",
       " -1.0000000000000007,\n",
       " 0.0799999999999994,\n",
       " -1.0000000000000007,\n",
       " -1.0000000000000007,\n",
       " -1.0000000000000007,\n",
       " -1.0000000000000007,\n",
       " -1.0000000000000007,\n",
       " -1.9800000000000006,\n",
       " -1.0000000000000007,\n",
       " -1.0000000000000007,\n",
       " -1.0000000000000007,\n",
       " -1.8700000000000006,\n",
       " -1.0000000000000007,\n",
       " 0.0699999999999994,\n",
       " -1.0000000000000007,\n",
       " 0.09999999999999942,\n",
       " -1.0000000000000007,\n",
       " 0.23999999999999955,\n",
       " 0.10999999999999943,\n",
       " 0.05999999999999939,\n",
       " 0.02999999999999936,\n",
       " -1.0000000000000007,\n",
       " 0.35999999999999965,\n",
       " 0.24999999999999956,\n",
       " -1.0000000000000007,\n",
       " 0.44999999999999973,\n",
       " 0.0699999999999994,\n",
       " 0.1999999999999995,\n",
       " 0.2799999999999996,\n",
       " 0.10999999999999943,\n",
       " 0.44999999999999973,\n",
       " -1.0000000000000007,\n",
       " 0.4199999999999997,\n",
       " 0.23999999999999955,\n",
       " -1.0000000000000007,\n",
       " 0.6399999999999999,\n",
       " 0.2999999999999996,\n",
       " 0.25999999999999956,\n",
       " 0.21999999999999953,\n",
       " 0.5299999999999998,\n",
       " 0.23999999999999955,\n",
       " 0.46999999999999975,\n",
       " 0.15999999999999948,\n",
       " 0.48999999999999977,\n",
       " 0.46999999999999975,\n",
       " 0.23999999999999955,\n",
       " 0.4999999999999998,\n",
       " 0.37999999999999967,\n",
       " 0.46999999999999975,\n",
       " 0.4099999999999997,\n",
       " 0.3899999999999997,\n",
       " 0.4199999999999997,\n",
       " 0.69,\n",
       " 0.08999999999999941,\n",
       " 0.6599999999999999,\n",
       " 0.5599999999999998,\n",
       " 0.36999999999999966,\n",
       " 0.5899999999999999,\n",
       " 0.5699999999999998,\n",
       " 0.4399999999999997,\n",
       " 0.5399999999999998,\n",
       " 0.33999999999999964,\n",
       " 0.72,\n",
       " 0.5699999999999998,\n",
       " 0.24999999999999956,\n",
       " 0.6599999999999999,\n",
       " 0.5399999999999998,\n",
       " 0.6399999999999999,\n",
       " 0.73,\n",
       " 0.3299999999999996,\n",
       " 0.5799999999999998,\n",
       " 0.5399999999999998,\n",
       " 0.6799999999999999,\n",
       " 0.6199999999999999,\n",
       " 0.5999999999999999,\n",
       " 0.5399999999999998,\n",
       " 0.6799999999999999,\n",
       " 0.7,\n",
       " 0.5699999999999998,\n",
       " 0.5699999999999998,\n",
       " 0.5999999999999999,\n",
       " 0.5999999999999999,\n",
       " 0.6199999999999999,\n",
       " 0.72,\n",
       " 0.6699999999999999,\n",
       " 0.4999999999999998,\n",
       " 0.74,\n",
       " 0.71,\n",
       " 0.7899999999999999,\n",
       " 0.6599999999999999,\n",
       " 0.7,\n",
       " 0.6099999999999999,\n",
       " 0.71,\n",
       " 0.6399999999999999,\n",
       " 0.8099999999999999,\n",
       " 0.75,\n",
       " 0.74,\n",
       " 0.6399999999999999,\n",
       " 0.71,\n",
       " 0.7799999999999999,\n",
       " 0.6599999999999999,\n",
       " 0.8099999999999999,\n",
       " 0.7599999999999999,\n",
       " 0.7899999999999999,\n",
       " -1.1099999999999999,\n",
       " 0.7999999999999999,\n",
       " 0.8099999999999999,\n",
       " 0.75,\n",
       " 0.7799999999999999,\n",
       " 0.7899999999999999,\n",
       " 0.6799999999999999,\n",
       " 0.7599999999999999,\n",
       " 0.8099999999999999,\n",
       " 0.7599999999999999,\n",
       " 0.8099999999999999,\n",
       " 0.7999999999999999,\n",
       " 0.7999999999999999,\n",
       " 0.75,\n",
       " 0.7999999999999999,\n",
       " 0.74,\n",
       " 0.7899999999999999,\n",
       " 0.8099999999999999,\n",
       " 0.8099999999999999,\n",
       " 0.7999999999999999,\n",
       " 0.7899999999999999,\n",
       " 0.7899999999999999,\n",
       " 0.7899999999999999,\n",
       " 0.7899999999999999,\n",
       " 0.7899999999999999,\n",
       " 0.7999999999999999,\n",
       " 0.8099999999999999,\n",
       " 0.8099999999999999,\n",
       " 0.8099999999999999,\n",
       " 0.7999999999999999,\n",
       " 0.8099999999999999,\n",
       " 0.7899999999999999,\n",
       " 0.8099999999999999,\n",
       " 0.8099999999999999,\n",
       " 0.8099999999999999,\n",
       " 0.8099999999999999,\n",
       " 0.8099999999999999,\n",
       " 0.8099999999999999,\n",
       " 0.8099999999999999,\n",
       " 0.8099999999999999,\n",
       " 0.8099999999999999,\n",
       " 0.8099999999999999,\n",
       " 0.8099999999999999,\n",
       " 0.8099999999999999,\n",
       " 0.8099999999999999,\n",
       " 0.8099999999999999,\n",
       " 0.8099999999999999,\n",
       " 0.8099999999999999,\n",
       " 0.8099999999999999,\n",
       " 0.8099999999999999,\n",
       " 0.8099999999999999,\n",
       " 0.8099999999999999,\n",
       " 0.8099999999999999,\n",
       " 0.8099999999999999,\n",
       " 0.8099999999999999,\n",
       " 0.8099999999999999,\n",
       " 0.8099999999999999,\n",
       " 0.8099999999999999,\n",
       " 0.8099999999999999,\n",
       " 0.8099999999999999,\n",
       " 0.8099999999999999,\n",
       " 0.8099999999999999,\n",
       " 0.8099999999999999,\n",
       " 0.8099999999999999,\n",
       " 0.8099999999999999,\n",
       " 0.8099999999999999,\n",
       " 0.8099999999999999,\n",
       " 0.8099999999999999]"
      ]
     },
     "execution_count": 112,
     "metadata": {},
     "output_type": "execute_result"
    }
   ],
   "source": [
    "record[:200]"
   ]
  },
  {
   "cell_type": "code",
   "execution_count": 135,
   "id": "b694be78",
   "metadata": {},
   "outputs": [
    {
     "name": "stdout",
     "output_type": "stream",
     "text": [
      "130\n"
     ]
    }
   ],
   "source": [
    "for i, val in enumerate(record):\n",
    "    if val == 0.8099999999999999:\n",
    "        print(i)\n",
    "        break"
   ]
  },
  {
   "cell_type": "code",
   "execution_count": 134,
   "id": "3b6f607a",
   "metadata": {},
   "outputs": [],
   "source": [
    "num_episode = 3000\n",
    "# record reward of each episode\n",
    "record = my_agent.activate_learn(num_episode) \n"
   ]
  },
  {
   "cell_type": "code",
   "execution_count": null,
   "id": "070c84cf",
   "metadata": {},
   "outputs": [],
   "source": []
  }
 ],
 "metadata": {
  "kernelspec": {
   "display_name": "Python 3 (ipykernel)",
   "language": "python",
   "name": "python3"
  },
  "language_info": {
   "codemirror_mode": {
    "name": "ipython",
    "version": 3
   },
   "file_extension": ".py",
   "mimetype": "text/x-python",
   "name": "python",
   "nbconvert_exporter": "python",
   "pygments_lexer": "ipython3",
   "version": "3.8.13"
  }
 },
 "nbformat": 4,
 "nbformat_minor": 5
}
