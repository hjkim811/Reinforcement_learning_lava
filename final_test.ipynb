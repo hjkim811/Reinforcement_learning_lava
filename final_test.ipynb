{
 "cells": [
  {
   "cell_type": "markdown",
   "id": "44596b06",
   "metadata": {},
   "source": [
    "# Sample Efficiency"
   ]
  },
  {
   "cell_type": "markdown",
   "id": "170d809b",
   "metadata": {},
   "source": [
    "### Noise decay 시에 self.step 사용"
   ]
  },
  {
   "cell_type": "code",
   "execution_count": 14,
   "id": "7d705d26",
   "metadata": {
    "scrolled": true
   },
   "outputs": [
    {
     "name": "stdout",
     "output_type": "stream",
     "text": [
      "(1) lr:0.01 / gamma:0.9 / noise1:10.0 / noise2:10.0 / [-3004.62, -3004.01, -3005.24, -3006.86, -3009.48] / Avg sample efficiency score : -3006.042\n",
      "(2) lr:0.01 / gamma:0.9 / noise1:10.0 / noise2:5.0 / [-3004.22, -3004.61, -3004.82, -3005.94, -3004.96] / Avg sample efficiency score : -3004.91\n",
      "(3) lr:0.01 / gamma:0.9 / noise1:10.0 / noise2:1.0 / [-3010.83, -3004.49, -3005.46, -3005.75, -3004.23] / Avg sample efficiency score : -3006.1519999999996\n",
      "(4) lr:0.01 / gamma:0.9 / noise1:10.0 / noise2:None / [-3003.6, -3004.91, -3007.11, -3005.1, -3002.99] / Avg sample efficiency score : -3004.742\n",
      "(5) lr:0.01 / gamma:0.9 / noise1:5.0 / noise2:10.0 / [-3004.68, -3000.42, -3004.58, -3003.29, -3003.53] / Avg sample efficiency score : -3003.3\n",
      "(6) lr:0.01 / gamma:0.9 / noise1:5.0 / noise2:5.0 / [-3005.55, -3003.73, -3006.19, -3005.08, -3003.68] / Avg sample efficiency score : -3004.8460000000005\n",
      "(7) lr:0.01 / gamma:0.9 / noise1:5.0 / noise2:1.0 / [-3006.91, -3007.08, -3002.89, -3008.57, -3006.53] / Avg sample efficiency score : -3006.3959999999997\n",
      "(8) lr:0.01 / gamma:0.9 / noise1:5.0 / noise2:None / [-3001.35, -3005.71, -3003.94, -3009.28, -3003.69] / Avg sample efficiency score : -3004.7940000000003\n",
      "(9) lr:0.01 / gamma:0.9 / noise1:1.0 / noise2:10.0 / [-3001.5, -3003.18, -3001.75, -3004.96, -3003.77] / Avg sample efficiency score : -3003.032\n",
      "(10) lr:0.01 / gamma:0.9 / noise1:1.0 / noise2:5.0 / [-3001.25, -3002.9, -3004.62, -3003.93, -3002.89] / Avg sample efficiency score : -3003.118\n",
      "(11) lr:0.01 / gamma:0.9 / noise1:1.0 / noise2:1.0 / [-3005.13, -3004.47, -3002.27, -3003.88, -3004.47] / Avg sample efficiency score : -3004.044\n",
      "(12) lr:0.01 / gamma:0.9 / noise1:1.0 / noise2:None / [-3002.86, -3003.54, -3001.83, -3006.69, -3004.14] / Avg sample efficiency score : -3003.812\n",
      "(13) lr:0.005 / gamma:0.9 / noise1:10.0 / noise2:10.0 / [-3008.63, -3010.19, -3005.23, -3010.97, -3005.46] / Avg sample efficiency score : -3008.096\n",
      "(14) lr:0.005 / gamma:0.9 / noise1:10.0 / noise2:5.0 / [-3009.47, -3007.12, -2981.32, -3004.44, -3014.89] / Avg sample efficiency score : -3003.448\n",
      "(15) lr:0.005 / gamma:0.9 / noise1:10.0 / noise2:1.0 / [2157.76, -3012.53, 2329.15, -3011.04, -3012.06] / Avg sample efficiency score : -909.7439999999999\n",
      "(16) lr:0.005 / gamma:0.9 / noise1:10.0 / noise2:None / [-3008.28, -3007.54, -3009.49, -2991.1, -3007.11] / Avg sample efficiency score : -3004.704\n",
      "(17) lr:0.005 / gamma:0.9 / noise1:5.0 / noise2:10.0 / [2348.97, -3008.34, 2253.59, -3003.65, -3008.59] / Avg sample efficiency score : -883.604\n",
      "(18) lr:0.005 / gamma:0.9 / noise1:5.0 / noise2:5.0 / [-3009.35, -3005.94, -3007.59, -3003.77, -3006.59] / Avg sample efficiency score : -3006.648\n",
      "(19) lr:0.005 / gamma:0.9 / noise1:5.0 / noise2:1.0 / [-2962.57, -3008.3, 2224.91, -2981.57, -3004.94] / Avg sample efficiency score : -1946.4940000000001\n",
      "(20) lr:0.005 / gamma:0.9 / noise1:5.0 / noise2:None / [2232.07, -3011.78, -3011.03, -3011.35, -3006.36] / Avg sample efficiency score : -1961.69\n",
      "(21) lr:0.005 / gamma:0.9 / noise1:1.0 / noise2:10.0 / [-3003.82, -3003.97, -3002.45, -3008.74, -3005.44] / Avg sample efficiency score : -3004.884\n",
      "(22) lr:0.005 / gamma:0.9 / noise1:1.0 / noise2:5.0 / [-3005.84, -3004.24, -3004.69, -3007.4, -3004.47] / Avg sample efficiency score : -3005.328\n",
      "(23) lr:0.005 / gamma:0.9 / noise1:1.0 / noise2:1.0 / [-3007.59, -3007.23, -3005.0, -3002.68, -3011.84] / Avg sample efficiency score : -3006.868\n",
      "(24) lr:0.005 / gamma:0.9 / noise1:1.0 / noise2:None / [-3006.27, -3006.69, -3005.2, -3004.33, -3010.17] / Avg sample efficiency score : -3006.532\n",
      "(25) lr:0.01 / gamma:0.95 / noise1:10.0 / noise2:10.0 / [2210.69, -3007.03, 2275.18, -3008.09, -2994.33] / Avg sample efficiency score : -904.716\n",
      "(26) lr:0.01 / gamma:0.95 / noise1:10.0 / noise2:5.0 / [-3013.23, 2251.6, -3007.86, -3012.47, 2214.35] / Avg sample efficiency score : -913.5220000000002\n",
      "(27) lr:0.01 / gamma:0.95 / noise1:10.0 / noise2:1.0 / [2144.18, 2131.37, -3010.64, -3009.6, -3009.41] / Avg sample efficiency score : -950.82\n",
      "(28) lr:0.01 / gamma:0.95 / noise1:10.0 / noise2:None / [-3012.13, 2118.91, 2268.7, -3008.9, -2996.6] / Avg sample efficiency score : -926.0040000000001\n",
      "(29) lr:0.01 / gamma:0.95 / noise1:5.0 / noise2:10.0 / [-3008.11, -3005.8, -2975.84, -3007.55, -3003.48] / Avg sample efficiency score : -3000.156\n",
      "(30) lr:0.01 / gamma:0.95 / noise1:5.0 / noise2:5.0 / [-3007.82, -3010.6, -3009.38, -3008.09, -3009.3] / Avg sample efficiency score : -3009.0379999999996\n",
      "(31) lr:0.01 / gamma:0.95 / noise1:5.0 / noise2:1.0 / [-3010.03, 2201.52, 2269.42, -3010.81, -3010.72] / Avg sample efficiency score : -912.124\n",
      "(32) lr:0.01 / gamma:0.95 / noise1:5.0 / noise2:None / [-3007.48, -3008.21, 2225.08, -3008.75, -3006.67] / Avg sample efficiency score : -1961.2060000000001\n",
      "(33) lr:0.01 / gamma:0.95 / noise1:1.0 / noise2:10.0 / [-3007.41, -3006.8, 2179.29, -3006.65, -3003.97] / Avg sample efficiency score : -1969.1079999999997\n",
      "(34) lr:0.01 / gamma:0.95 / noise1:1.0 / noise2:5.0 / [-3008.25, -3005.68, -3009.18, -3007.67, -3001.62] / Avg sample efficiency score : -3006.4800000000005\n",
      "(35) lr:0.01 / gamma:0.95 / noise1:1.0 / noise2:1.0 / [-3007.38, -3010.23, 2154.31, -3008.08, 2232.02] / Avg sample efficiency score : -927.8720000000001\n",
      "(36) lr:0.01 / gamma:0.95 / noise1:1.0 / noise2:None / [2148.78, -3006.62, -2991.58, -3005.98, -3010.28] / Avg sample efficiency score : -1973.136\n",
      "(37) lr:0.005 / gamma:0.95 / noise1:10.0 / noise2:10.0 / [2309.1, -2998.39, 2281.01, 1992.31, 2192.78] / Avg sample efficiency score : 1155.362\n",
      "(38) lr:0.005 / gamma:0.95 / noise1:10.0 / noise2:5.0 / [2210.24, 2118.97, 2100.33, 2193.75, 2248.57] / Avg sample efficiency score : 2174.372\n",
      "(39) lr:0.005 / gamma:0.95 / noise1:10.0 / noise2:1.0 / [2256.26, 2187.42, 2295.16, 2248.05, 2183.11] / Avg sample efficiency score : 2234.0\n",
      "(40) lr:0.005 / gamma:0.95 / noise1:10.0 / noise2:None / [2269.22, 2166.65, 2325.18, 2238.09, 2259.81] / Avg sample efficiency score : 2251.79\n",
      "(41) lr:0.005 / gamma:0.95 / noise1:5.0 / noise2:10.0 / [2202.04, -3012.51, 2192.99, 2185.27, -3007.64] / Avg sample efficiency score : 112.02999999999993\n",
      "(42) lr:0.005 / gamma:0.95 / noise1:5.0 / noise2:5.0 / [2181.75, -3013.1, 2328.29, 2163.39, 2165.87] / Avg sample efficiency score : 1165.24\n",
      "(43) lr:0.005 / gamma:0.95 / noise1:5.0 / noise2:1.0 / [2215.04, -3014.88, 2317.44, 2080.62, 2100.41] / Avg sample efficiency score : 1139.7259999999999\n",
      "(44) lr:0.005 / gamma:0.95 / noise1:5.0 / noise2:None / [2203.86, 2174.05, 2203.66, 2261.49, -3017.64] / Avg sample efficiency score : 1165.084\n",
      "(45) lr:0.005 / gamma:0.95 / noise1:1.0 / noise2:10.0 / [2308.44, 2176.87, 2260.42, 2165.51, 2074.33] / Avg sample efficiency score : 2197.114\n",
      "(46) lr:0.005 / gamma:0.95 / noise1:1.0 / noise2:5.0 / [2294.61, 2216.84, 2335.43, 2133.66, 2241.03] / Avg sample efficiency score : 2244.3140000000003\n",
      "(47) lr:0.005 / gamma:0.95 / noise1:1.0 / noise2:1.0 / [2280.2, -3013.63, 2160.8, -3009.39, -3004.91] / Avg sample efficiency score : -917.3860000000001\n",
      "(48) lr:0.005 / gamma:0.95 / noise1:1.0 / noise2:None / [2298.05, -3001.12, 2337.28, 2181.37, 2219.96] / Avg sample efficiency score : 1207.1080000000002\n",
      "CPU times: user 8min 50s, sys: 1min 54s, total: 10min 45s\n",
      "Wall time: 10h 34min 37s\n"
     ]
    }
   ],
   "source": [
    "%%time\n",
    "\n",
    "'''\n",
    "Parameter 조합:\n",
    "gamma_list = [0.90, 0.95]\n",
    "lr_list = [0.01, 0.005]\n",
    "noise1_list = [10.0, 5.0, 1.0]\n",
    "noise2_list = [10.0, 5.0, 1.0, None]\n",
    "'''\n",
    "\n",
    "# grid search\n",
    "!python test_grid_search.py --team 4 --envType 1 --evalType 1 --seeds 1 10 100 1000 10000\n",
    "\n",
    "# 최고치: 2251.79"
   ]
  },
  {
   "cell_type": "markdown",
   "id": "6eb5944d",
   "metadata": {},
   "source": [
    "### Noise decay 시에 epi 사용"
   ]
  },
  {
   "cell_type": "code",
   "execution_count": 1,
   "id": "86d237f3",
   "metadata": {},
   "outputs": [
    {
     "name": "stdout",
     "output_type": "stream",
     "text": [
      "(1) lr:0.01 / gamma:0.9 / noise1:10.0 / noise2:10.0 / [-3013.86, -2975.57, -3011.53, -3014.25, -3010.43] / Avg sample efficiency score : -3005.128\n",
      "(2) lr:0.01 / gamma:0.9 / noise1:10.0 / noise2:5.0 / [-3022.4, -3008.32, 1940.21, 2150.33, 2144.21] / Avg sample efficiency score : 40.80599999999995\n",
      "(3) lr:0.01 / gamma:0.9 / noise1:10.0 / noise2:1.0 / [2098.94, 2158.72, 2027.65, -3011.72, 2146.16] / Avg sample efficiency score : 1083.95\n",
      "(4) lr:0.01 / gamma:0.9 / noise1:10.0 / noise2:None / [2206.99, 2078.61, 2151.39, 2166.57, 2037.01] / Avg sample efficiency score : 2128.114\n",
      "(5) lr:0.01 / gamma:0.9 / noise1:5.0 / noise2:10.0 / [-3003.47, -3002.55, -3004.38, -3008.89, -3009.8] / Avg sample efficiency score : -3005.818\n",
      "(6) lr:0.01 / gamma:0.9 / noise1:5.0 / noise2:5.0 / [2182.82, -3010.97, 2117.22, -3010.56, -3014.9] / Avg sample efficiency score : -947.2779999999999\n",
      "(7) lr:0.01 / gamma:0.9 / noise1:5.0 / noise2:1.0 / [2092.08, 2205.64, -3015.96, 2164.71, 2293.26] / Avg sample efficiency score : 1147.946\n",
      "(8) lr:0.01 / gamma:0.9 / noise1:5.0 / noise2:None / [-3016.98, -2998.93, 2088.3, 2218.42, 2264.77] / Avg sample efficiency score : 111.11600000000007\n",
      "(9) lr:0.01 / gamma:0.9 / noise1:1.0 / noise2:10.0 / [-3001.49, -3001.15, -3001.88, -3006.52, -3004.42] / Avg sample efficiency score : -3003.092\n",
      "(10) lr:0.01 / gamma:0.9 / noise1:1.0 / noise2:5.0 / [-3002.71, -3001.04, -3001.97, -3002.86, -3008.11] / Avg sample efficiency score : -3003.338\n",
      "(11) lr:0.01 / gamma:0.9 / noise1:1.0 / noise2:1.0 / [-2998.21, -3009.18, -3007.61, -3005.27, -3007.04] / Avg sample efficiency score : -3005.4620000000004\n",
      "(12) lr:0.01 / gamma:0.9 / noise1:1.0 / noise2:None / [-3010.54, -3010.04, -3005.41, -3008.43, -2993.33] / Avg sample efficiency score : -3005.55\n",
      "(13) lr:0.005 / gamma:0.9 / noise1:10.0 / noise2:10.0 / [-2976.37, 2056.71, -3017.05, -3019.11, 1987.9] / Avg sample efficiency score : -993.5840000000001\n",
      "(14) lr:0.005 / gamma:0.9 / noise1:10.0 / noise2:5.0 / [2179.57, 2141.29, -3015.2, -3021.41, 2073.75] / Avg sample efficiency score : 71.60000000000018\n",
      "(15) lr:0.005 / gamma:0.9 / noise1:10.0 / noise2:1.0 / [2163.91, 2042.63, 2089.67, 2107.83, 2020.69] / Avg sample efficiency score : 2084.9460000000004\n",
      "(16) lr:0.005 / gamma:0.9 / noise1:10.0 / noise2:None / [2100.09, 2158.96, 2073.86, 2159.68, 2100.67] / Avg sample efficiency score : 2118.652\n",
      "(17) lr:0.005 / gamma:0.9 / noise1:5.0 / noise2:10.0 / [-3005.29, -3007.7, -3011.56, -3012.49, -3014.42] / Avg sample efficiency score : -3010.292\n",
      "(18) lr:0.005 / gamma:0.9 / noise1:5.0 / noise2:5.0 / [-3016.69, -3014.94, 2174.99, -2986.56, -3019.81] / Avg sample efficiency score : -1972.602\n",
      "(19) lr:0.005 / gamma:0.9 / noise1:5.0 / noise2:1.0 / [2222.3, 2102.33, 2164.48, 2109.34, 2203.34] / Avg sample efficiency score : 2160.358\n",
      "(20) lr:0.005 / gamma:0.9 / noise1:5.0 / noise2:None / [2219.55, 2220.3, 2163.23, 2107.08, 2142.93] / Avg sample efficiency score : 2170.618\n",
      "(21) lr:0.005 / gamma:0.9 / noise1:1.0 / noise2:10.0 / [-3003.65, -3003.07, -2984.57, 1143.01, -3004.99] / Avg sample efficiency score : -2170.654\n",
      "(22) lr:0.005 / gamma:0.9 / noise1:1.0 / noise2:5.0 / [-3003.68, -3007.36, -3004.67, -3001.97, -3008.66] / Avg sample efficiency score : -3005.2679999999996\n",
      "(23) lr:0.005 / gamma:0.9 / noise1:1.0 / noise2:1.0 / [2210.05, -3008.21, 2099.96, 2055.11, -3010.82] / Avg sample efficiency score : 69.21800000000003\n",
      "(24) lr:0.005 / gamma:0.9 / noise1:1.0 / noise2:None / [2250.87, -3011.3, 2249.57, -3019.4, 2233.51] / Avg sample efficiency score : 140.65\n",
      "(25) lr:0.01 / gamma:0.95 / noise1:10.0 / noise2:10.0 / [2113.83, -3013.26, 1962.4, 2158.55, 1984.05] / Avg sample efficiency score : 1041.114\n",
      "(26) lr:0.01 / gamma:0.95 / noise1:10.0 / noise2:5.0 / [2079.2, 2208.05, 2060.94, 2155.38, 2023.72] / Avg sample efficiency score : 2105.4579999999996\n",
      "(27) lr:0.01 / gamma:0.95 / noise1:10.0 / noise2:1.0 / [2138.96, 2182.12, 2116.6, 2184.51, 2047.84] / Avg sample efficiency score : 2134.0060000000003\n",
      "(28) lr:0.01 / gamma:0.95 / noise1:10.0 / noise2:None / [2122.95, 2118.15, 2126.32, 2134.47, 2210.48] / Avg sample efficiency score : 2142.4739999999997\n",
      "(29) lr:0.01 / gamma:0.95 / noise1:5.0 / noise2:10.0 / [2006.21, 1888.01, 2023.78, -3009.47, -3013.67] / Avg sample efficiency score : -21.027999999999974\n",
      "(30) lr:0.01 / gamma:0.95 / noise1:5.0 / noise2:5.0 / [2213.43, 2183.88, 2166.48, 2099.76, 2137.8] / Avg sample efficiency score : 2160.2699999999995\n",
      "(31) lr:0.01 / gamma:0.95 / noise1:5.0 / noise2:1.0 / [2197.35, -3012.62, 2246.09, 2253.16, 2137.25] / Avg sample efficiency score : 1164.2459999999999\n",
      "(32) lr:0.01 / gamma:0.95 / noise1:5.0 / noise2:None / [2117.5, 2165.56, 2138.7, 2209.17, 1927.19] / Avg sample efficiency score : 2111.6240000000003\n",
      "(33) lr:0.01 / gamma:0.95 / noise1:1.0 / noise2:10.0 / [-3006.77, -3002.76, 1772.84, -3007.31, -3008.36] / Avg sample efficiency score : -2050.472\n",
      "(34) lr:0.01 / gamma:0.95 / noise1:1.0 / noise2:5.0 / [-3003.23, 1975.15, 1987.7, 2032.02, -3010.87] / Avg sample efficiency score : -3.8459999999999126\n",
      "(35) lr:0.01 / gamma:0.95 / noise1:1.0 / noise2:1.0 / [2144.89, 2128.09, 2188.29, -2987.13, -3016.42] / Avg sample efficiency score : 91.54399999999987\n",
      "(36) lr:0.01 / gamma:0.95 / noise1:1.0 / noise2:None / [2245.96, 2189.01, 2176.82, -3013.53, -3017.93] / Avg sample efficiency score : 116.06600000000017\n",
      "(37) lr:0.005 / gamma:0.95 / noise1:10.0 / noise2:10.0 / [2033.32, 2123.69, -3016.38, 2115.96, 1975.58] / Avg sample efficiency score : 1046.434\n",
      "(38) lr:0.005 / gamma:0.95 / noise1:10.0 / noise2:5.0 / [2068.96, 2159.76, 2066.92, 2194.65, 2127.57] / Avg sample efficiency score : 2123.572\n",
      "(39) lr:0.005 / gamma:0.95 / noise1:10.0 / noise2:1.0 / [2089.64, 2142.82, 2101.43, 2130.87, 2108.56] / Avg sample efficiency score : 2114.6639999999998\n",
      "(40) lr:0.005 / gamma:0.95 / noise1:10.0 / noise2:None / [2043.88, 2122.82, 1981.5, 2064.85, 2158.95] / Avg sample efficiency score : 2074.4\n",
      "(41) lr:0.005 / gamma:0.95 / noise1:5.0 / noise2:10.0 / [1794.69, -3015.84, 1662.02, 1735.05, 1900.7] / Avg sample efficiency score : 815.324\n",
      "(42) lr:0.005 / gamma:0.95 / noise1:5.0 / noise2:5.0 / [2166.63, 2148.09, 2215.53, 2135.68, 2147.73] / Avg sample efficiency score : 2162.732\n",
      "(43) lr:0.005 / gamma:0.95 / noise1:5.0 / noise2:1.0 / [2141.17, 2188.35, 2143.07, 2208.13, 2125.05] / Avg sample efficiency score : 2161.154\n",
      "(44) lr:0.005 / gamma:0.95 / noise1:5.0 / noise2:None / [2231.14, 2195.48, 2076.9, 2213.38, 2223.91] / Avg sample efficiency score : 2188.1620000000003\n",
      "(45) lr:0.005 / gamma:0.95 / noise1:1.0 / noise2:10.0 / [-3008.85, 1274.74, 1584.63, 1590.73, 593.93] / Avg sample efficiency score : 407.03600000000006\n",
      "(46) lr:0.005 / gamma:0.95 / noise1:1.0 / noise2:5.0 / [1776.74, -3010.85, -3009.36, 1720.6, -3016.18] / Avg sample efficiency score : -1107.81\n",
      "(47) lr:0.005 / gamma:0.95 / noise1:1.0 / noise2:1.0 / [2242.54, 2175.01, 1925.2, 2134.04, 2292.75] / Avg sample efficiency score : 2153.9080000000004\n",
      "(48) lr:0.005 / gamma:0.95 / noise1:1.0 / noise2:None / [2120.87, 2199.73, 2227.94, 2310.58, 2151.32] / Avg sample efficiency score : 2202.088\n",
      "CPU times: user 5min 41s, sys: 1min 13s, total: 6min 54s\n",
      "Wall time: 6h 51min 30s\n"
     ]
    }
   ],
   "source": [
    "%%time\n",
    "\n",
    "'''\n",
    "Parameter 조합:\n",
    "gamma_list = [0.90, 0.95]\n",
    "lr_list = [0.01, 0.005]\n",
    "noise1_list = [10.0, 5.0, 1.0]\n",
    "noise2_list = [10.0, 5.0, 1.0, None]\n",
    "'''\n",
    "\n",
    "# grid search\n",
    "!python test_grid_search.py --team 4 --envType 1 --evalType 1 --seeds 1 10 100 1000 10000\n",
    "\n",
    "# 최고치: 2202.088"
   ]
  },
  {
   "cell_type": "markdown",
   "id": "44c04ee2",
   "metadata": {},
   "source": [
    "### Grid search에서 결과 잘 나온 parameter 조합으로 seed 수 늘려서 다시\n",
    "- decay 시에 self.step 사용"
   ]
  },
  {
   "cell_type": "code",
   "execution_count": 4,
   "id": "d94e45ad",
   "metadata": {},
   "outputs": [
    {
     "name": "stdout",
     "output_type": "stream",
     "text": [
      "(1) lr:0.005 / gamma:0.95 / noise1:10.0 / noise2:5.0 / [2210.24, 2202.41, 2118.97, 2226.36, 2293.09, 2168.87, 2163.48, 2265.26, 2108.28, 2248.28, 2100.33, 2190.13, 2313.77, 2302.55, 2165.82, 2193.75, 2128.07, 2212.98, 2270.47, -3016.79] / Avg sample efficiency score : 1943.3160000000003\n",
      "(2) lr:0.005 / gamma:0.95 / noise1:10.0 / noise2:1.0 / [2256.26, 2205.44, 2187.42, 2163.82, 2246.06, 2176.31, 2154.83, -3010.95, 2297.59, 2186.36, 2295.16, 2151.21, 2239.84, 2351.89, 2206.29, 2248.05, 2120.4, 2124.64, 2216.78, 2124.94] / Avg sample efficiency score : 1947.1170000000002\n",
      "(3) lr:0.005 / gamma:0.95 / noise1:10.0 / noise2:None / [2269.22, -3015.21, 2166.65, 2192.13, 2285.69, 2161.78, 2230.64, 2096.82, 2192.86, 2227.31, 2325.18, 2150.85, 2232.78, 2186.84, 2141.57, 2238.09, 2093.96, -3018.6, 2275.95, -3018.65] / Avg sample efficiency score : 1420.793\n",
      "(4) lr:0.005 / gamma:0.95 / noise1:100.0 / noise2:5.0 / [2192.99, 2056.54, 2025.55, 2197.07, 2215.64, 2133.69, 2213.97, 2165.21, 2262.94, 2222.01, 2007.73, 2044.39, 2137.99, 2075.8, 2191.71, 2127.59, 2179.27, 2024.79, 2205.35, 1973.35] / Avg sample efficiency score : 2132.6789999999996\n",
      "(5) lr:0.005 / gamma:0.95 / noise1:100.0 / noise2:1.0 / [2176.37, 2082.16, 1978.38, 2146.93, 2079.25, 2190.15, 2151.25, -3012.83, 2112.62, 2165.27, 2119.82, 2052.35, 2177.66, 2154.5, 2200.19, 2190.33, 2099.75, 2037.3, 2227.51, 2029.37] / Avg sample efficiency score : 1867.9165000000005\n",
      "(6) lr:0.005 / gamma:0.95 / noise1:100.0 / noise2:None / [2189.24, 2147.07, 2103.7, 2144.07, 2204.29, 1992.4, 2091.06, 2192.44, 2260.57, 2087.22, 2022.22, 2167.66, 2192.16, 2123.77, 2111.57, 2221.98, 2063.72, 2197.78, 2135.1, 1970.32] / Avg sample efficiency score : 2130.917\n",
      "(7) lr:0.005 / gamma:0.95 / noise1:50.0 / noise2:5.0 / [2192.06, 2194.57, 2101.88, 2201.67, 2168.69, 1943.59, 2127.61, 2238.02, 2150.56, 2186.54, 2151.49, 2173.09, 2228.82, 2202.59, 2219.8, 2232.25, 2193.44, 2195.62, 2066.1, -3019.99] / Avg sample efficiency score : 1907.4200000000005\n",
      "(8) lr:0.005 / gamma:0.95 / noise1:50.0 / noise2:1.0 / [2084.68, 2182.03, 2180.87, 2308.78, 2170.84, 2088.83, 2207.17, 2089.99, 2232.08, 2119.46, 2161.52, 2178.62, 2214.76, 2260.21, 2173.61, 2109.1, 2097.14, 2124.2, 2130.41, 2083.42] / Avg sample efficiency score : 2159.886\n",
      "(9) lr:0.005 / gamma:0.95 / noise1:50.0 / noise2:None / [2224.56, 2121.73, 2170.89, 2259.58, 2187.64, 2229.94, -3013.39, 2097.06, 2188.0, 2127.55, 2079.23, -3018.1, 2175.8, 2260.45, 2248.18, 2096.81, 2226.47, 2277.29, 2242.34, 2091.73] / Avg sample efficiency score : 1663.688\n",
      "CPU times: user 2min 21s, sys: 30 s, total: 2min 51s\n",
      "Wall time: 2h 51min 43s\n"
     ]
    }
   ],
   "source": [
    "%%time\n",
    "\n",
    "'''\n",
    "Parameter 조합\n",
    "gamma_list = [0.95]\n",
    "lr_list = [0.005]\n",
    "noise1_list = [10.0, 100.0, 50.0]\n",
    "noise2_list = [5.0, 1.0, None]\n",
    "'''\n",
    "\n",
    "!python test_specific_parameter.py --team 4 --envType 1 --evalType 1 --seeds 1 5 10 20 39 40 50 70 88 98 100 143 180 274 250 1000 2022 4500 10001 100000\n",
    "\n",
    "# 최고치: 2159.886"
   ]
  },
  {
   "cell_type": "markdown",
   "id": "b2c4dee9",
   "metadata": {},
   "source": [
    "### Model weight 저장"
   ]
  },
  {
   "cell_type": "code",
   "execution_count": 14,
   "id": "a53f8ff1",
   "metadata": {},
   "outputs": [
    {
     "name": "stdout",
     "output_type": "stream",
     "text": [
      "max reward: 0.75\n",
      "Model saved: DQN_0.005_0.95_50.0_1.0_1.pt\n",
      "max reward: 0.7899999999999999\n",
      "Model saved: DQN_0.005_0.95_50.0_1.0_10.pt\n",
      "max reward: 0.7899999999999999\n",
      "Model saved: DQN_0.005_0.95_50.0_1.0_100.pt\n",
      "max reward: 0.75\n",
      "Model saved: DQN_0.005_0.95_50.0_1.0_1000.pt\n",
      "max reward: 0.7699999999999999\n",
      "Model saved: DQN_0.005_0.95_50.0_1.0_10000.pt\n",
      "(1) lr:0.005 / gamma:0.95 / noise1:50.0 / noise2:1.0 / [2084.68, 2180.87, 2161.52, 2109.1, 2136.8] / Avg sample efficiency score : 2134.594\n",
      "CPU times: user 3.27 s, sys: 844 ms, total: 4.12 s\n",
      "Wall time: 4min 2s\n"
     ]
    }
   ],
   "source": [
    "%%time\n",
    "\n",
    "# test_specific_parameter.py에 모델 저장하는 코드 추가함\n",
    "!python test_specific_parameter.py --team 4 --envType 1 --evalType 1 --seeds 1 10 100 1000 10000"
   ]
  },
  {
   "cell_type": "markdown",
   "id": "7d5e1f84",
   "metadata": {},
   "source": [
    "# Performance"
   ]
  },
  {
   "cell_type": "code",
   "execution_count": 62,
   "id": "f0d4fa79",
   "metadata": {
    "scrolled": true
   },
   "outputs": [
    {
     "name": "stdout",
     "output_type": "stream",
     "text": [
      "Seed 1 start...\n",
      "max reward: 0.7699999999999999\n",
      "Seed 10 start...\n",
      "max reward: 0.7699999999999999\n",
      "Seed 100 start...\n",
      "max reward: 0.7699999999999999\n",
      "Seed 1000 start...\n",
      "max reward: 0.7699999999999999\n",
      "Seed 10000 start...\n",
      "max reward: 0.7699999999999999\n",
      "Avg Performance: 32.004\n",
      "CPU times: user 56 ms, sys: 16 ms, total: 72 ms\n",
      "Wall time: 3.93 s\n"
     ]
    }
   ],
   "source": [
    "%%time\n",
    "\n",
    "# performance 측정 시에 noise1 = 50, noise2 = 1\n",
    "!python test.py --team 4 --envType 1 --evalType 0 --seeds 1 10 100 1000 10000"
   ]
  }
 ],
 "metadata": {
  "kernelspec": {
   "display_name": "Python [conda env:rl]",
   "language": "python",
   "name": "conda-env-rl-py"
  },
  "language_info": {
   "codemirror_mode": {
    "name": "ipython",
    "version": 3
   },
   "file_extension": ".py",
   "mimetype": "text/x-python",
   "name": "python",
   "nbconvert_exporter": "python",
   "pygments_lexer": "ipython3",
   "version": "3.8.13"
  }
 },
 "nbformat": 4,
 "nbformat_minor": 5
}
