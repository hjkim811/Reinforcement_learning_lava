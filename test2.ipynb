{
 "cells": [
  {
   "cell_type": "code",
   "execution_count": 1,
   "id": "b0f21899",
   "metadata": {},
   "outputs": [],
   "source": [
    "import numpy as np\n",
    "import gym\n",
    "import random\n",
    "from lava_grid import ZigZag6x10\n",
    "from tqdm import tqdm\n",
    "import math\n",
    "from agent_lava_v1 import agent\n"
   ]
  },
  {
   "cell_type": "code",
   "execution_count": 80,
   "id": "27eb691d",
   "metadata": {},
   "outputs": [
    {
     "name": "stderr",
     "output_type": "stream",
     "text": [
      "100%|██████████████████████████████████████████████████████████████████████████| 3000/3000 [00:06<00:00, 476.87it/s]"
     ]
    },
    {
     "name": "stdout",
     "output_type": "stream",
     "text": [
      "total reward: 0.8099999999999999\n"
     ]
    },
    {
     "name": "stderr",
     "output_type": "stream",
     "text": [
      "\n"
     ]
    }
   ],
   "source": [
    "# default setting\n",
    "max_steps = 100\n",
    "stochasticity = 0 # probability of the selected action failing and instead executing any of the remaining 3\n",
    "no_render = True\n",
    "\n",
    "env = ZigZag6x10(max_steps=max_steps, act_fail_prob=stochasticity, goal=(5, 9), numpy_state=False)\n",
    "s = env.reset()\n",
    "done = False\n",
    "cum_reward = 0.0\n",
    "\n",
    "\"\"\" Your agent\"\"\"\n",
    "agent = agent(env)\n",
    "\n",
    "\n",
    "# moving costs -0.01, falling in lava -1, reaching goal +1\n",
    "# final reward is number_of_steps / max_steps\n",
    "for _ in tqdm(range(3000)):\n",
    "    agent.episode_num += 1\n",
    "    s = env.reset()\n",
    "    done = False\n",
    "    cum_reward = 0.0\n",
    "\n",
    "    while not done:\n",
    "        action = agent.action()\n",
    "        ns, reward, done, i = env.step(action)\n",
    "        ns = env.s\n",
    "        agent.learn(s, reward, ns, action)\n",
    "        cum_reward += reward\n",
    "        s = ns\n",
    "    \n",
    "print(f\"total reward: {cum_reward}\")"
   ]
  },
  {
   "cell_type": "code",
   "execution_count": 81,
   "id": "0d74eb72",
   "metadata": {},
   "outputs": [
    {
     "data": {
      "text/plain": [
       "{0: 0.4026913145054373,\n",
       " 1: 0.8327421532685236,\n",
       " 2: 0.7625843004641145,\n",
       " 3: 0.9999999999999994}"
      ]
     },
     "execution_count": 81,
     "metadata": {},
     "output_type": "execute_result"
    }
   ],
   "source": [
    "agent.q_table[49]"
   ]
  },
  {
   "cell_type": "code",
   "execution_count": 2,
   "id": "76429264",
   "metadata": {},
   "outputs": [
    {
     "name": "stdout",
     "output_type": "stream",
     "text": [
      "0 상태의 행동가치 함수는 다음과 같다\n"
     ]
    },
    {
     "ename": "AttributeError",
     "evalue": "type object 'agent' has no attribute 'q_table'",
     "output_type": "error",
     "traceback": [
      "\u001b[1;31m---------------------------------------------------------------------------\u001b[0m",
      "\u001b[1;31mAttributeError\u001b[0m                            Traceback (most recent call last)",
      "Input \u001b[1;32mIn [2]\u001b[0m, in \u001b[0;36m<cell line: 1>\u001b[1;34m()\u001b[0m\n\u001b[0;32m      1\u001b[0m \u001b[38;5;28;01mfor\u001b[39;00m i \u001b[38;5;129;01min\u001b[39;00m \u001b[38;5;28mrange\u001b[39m(\u001b[38;5;241m60\u001b[39m):\n\u001b[0;32m      2\u001b[0m     \u001b[38;5;28mprint\u001b[39m(i, \u001b[38;5;124m'\u001b[39m\u001b[38;5;124m상태의 행동가치 함수는 다음과 같다\u001b[39m\u001b[38;5;124m'\u001b[39m)\n\u001b[1;32m----> 3\u001b[0m     \u001b[38;5;28mprint\u001b[39m(\u001b[43magent\u001b[49m\u001b[38;5;241;43m.\u001b[39;49m\u001b[43mq_table\u001b[49m[i])\n",
      "\u001b[1;31mAttributeError\u001b[0m: type object 'agent' has no attribute 'q_table'"
     ]
    }
   ],
   "source": [
    "for i in range(60):\n",
    "    print(i, '상태의 행동가치 함수는 다음과 같다')\n",
    "    print(agent.q_table[i])"
   ]
  },
  {
   "cell_type": "markdown",
   "id": "c7dd3969",
   "metadata": {},
   "source": [
    "### 7, 8, 17, 18 상태에서 루프를 도는 모습을 보임\n",
    "# 시간차 학습으로 해결 요망"
   ]
  },
  {
   "cell_type": "markdown",
   "id": "3b910c5c",
   "metadata": {},
   "source": [
    "1. agent에 env를 copy 해서 넣고, 실제 환경과 차이를 두고 시간차 학습\n",
    "2. epsilon을 점차 감소\n",
    "3. 벽에서 할 수 있는 행동을 제약"
   ]
  },
  {
   "cell_type": "markdown",
   "id": "a7474f72",
   "metadata": {},
   "source": [
    "# -----------------\n",
    "# agent test\n",
    "# -----------------"
   ]
  },
  {
   "cell_type": "code",
   "execution_count": 2,
   "id": "918d8356",
   "metadata": {},
   "outputs": [],
   "source": [
    "def test(step):\n",
    "    \n",
    "    record = []\n",
    "    \n",
    "    for _ in tqdm(range(step)):\n",
    "        from agent_lava_v1 import agent\n",
    "        \n",
    "        # default setting\n",
    "        max_steps = 100\n",
    "        stochasticity = 0 # probability of the selected action failing and instead executing any of the remaining 3\n",
    "        no_render = True\n",
    "\n",
    "        env = ZigZag6x10(max_steps=max_steps, act_fail_prob=stochasticity, goal=(5, 9), numpy_state=False)\n",
    "        s = env.reset()\n",
    "        done = False\n",
    "        cum_reward = 0.0\n",
    "\n",
    "        \"\"\" Your agent\"\"\"\n",
    "        global agent\n",
    "        agent = agent(env)\n",
    "\n",
    "\n",
    "        # moving costs -0.01, falling in lava -1, reaching goal +1\n",
    "        # final reward is number_of_steps / max_steps\n",
    "        for _ in range(300):\n",
    "            agent.episode_num += 1\n",
    "            s = env.reset()\n",
    "            done = False\n",
    "            cum_reward = 0.0\n",
    "\n",
    "            while not done:\n",
    "                action = agent.action()\n",
    "                ns, reward, done, i = env.step(action)\n",
    "                ns = env.s\n",
    "                agent.learn(s, reward, ns, action)\n",
    "                cum_reward += reward\n",
    "                s = ns\n",
    "        \n",
    "        \n",
    "        s = env.reset()\n",
    "        done = False\n",
    "        cum_reward = 0.0\n",
    "        \n",
    "        while not done:\n",
    "            action = agent.action(greedy = True)\n",
    "            ns, reward, done, i = env.step(action)\n",
    "            ns = env.s\n",
    "            agent.learn(s, reward, ns, action)\n",
    "            cum_reward += reward\n",
    "            \n",
    "        record.append(cum_reward)\n",
    "        \n",
    "        print(f\"total reward: {cum_reward}\")\n",
    "    return record"
   ]
  },
  {
   "cell_type": "code",
   "execution_count": 3,
   "id": "3ddcd8bb",
   "metadata": {
    "scrolled": true
   },
   "outputs": [
    {
     "name": "stderr",
     "output_type": "stream",
     "text": [
      "  1%|▊                                                                              | 1/100 [00:01<01:43,  1.04s/it]"
     ]
    },
    {
     "name": "stdout",
     "output_type": "stream",
     "text": [
      "total reward: 0.8099999999999999\n"
     ]
    },
    {
     "name": "stderr",
     "output_type": "stream",
     "text": [
      "\r\n",
      "  2%|█▌                                                                             | 2/100 [00:02<01:41,  1.04s/it]"
     ]
    },
    {
     "name": "stdout",
     "output_type": "stream",
     "text": [
      "total reward: 0.8099999999999999\n"
     ]
    },
    {
     "name": "stderr",
     "output_type": "stream",
     "text": [
      "\r\n",
      "  3%|██▎                                                                            | 3/100 [00:03<01:40,  1.04s/it]"
     ]
    },
    {
     "name": "stdout",
     "output_type": "stream",
     "text": [
      "total reward: 0.8099999999999999\n"
     ]
    },
    {
     "name": "stderr",
     "output_type": "stream",
     "text": [
      "\r\n",
      "  4%|███▏                                                                           | 4/100 [00:04<01:40,  1.04s/it]"
     ]
    },
    {
     "name": "stdout",
     "output_type": "stream",
     "text": [
      "total reward: 0.8099999999999999\n"
     ]
    },
    {
     "name": "stderr",
     "output_type": "stream",
     "text": [
      "\r\n",
      "  5%|███▉                                                                           | 5/100 [00:05<01:38,  1.04s/it]"
     ]
    },
    {
     "name": "stdout",
     "output_type": "stream",
     "text": [
      "total reward: 0.8099999999999999\n"
     ]
    },
    {
     "name": "stderr",
     "output_type": "stream",
     "text": [
      "\r\n",
      "  6%|████▋                                                                          | 6/100 [00:06<01:37,  1.04s/it]"
     ]
    },
    {
     "name": "stdout",
     "output_type": "stream",
     "text": [
      "total reward: 0.8099999999999999\n"
     ]
    },
    {
     "name": "stderr",
     "output_type": "stream",
     "text": [
      "\r\n",
      "  7%|█████▌                                                                         | 7/100 [00:07<01:37,  1.04s/it]"
     ]
    },
    {
     "name": "stdout",
     "output_type": "stream",
     "text": [
      "total reward: 0.8099999999999999\n"
     ]
    },
    {
     "name": "stderr",
     "output_type": "stream",
     "text": [
      "\r\n",
      "  8%|██████▎                                                                        | 8/100 [00:08<01:36,  1.05s/it]"
     ]
    },
    {
     "name": "stdout",
     "output_type": "stream",
     "text": [
      "total reward: 0.8099999999999999\n"
     ]
    },
    {
     "name": "stderr",
     "output_type": "stream",
     "text": [
      "\r\n",
      "  9%|███████                                                                        | 9/100 [00:09<01:34,  1.04s/it]"
     ]
    },
    {
     "name": "stdout",
     "output_type": "stream",
     "text": [
      "total reward: 0.8099999999999999\n"
     ]
    },
    {
     "name": "stderr",
     "output_type": "stream",
     "text": [
      "\r\n",
      " 10%|███████▊                                                                      | 10/100 [00:10<01:33,  1.04s/it]"
     ]
    },
    {
     "name": "stdout",
     "output_type": "stream",
     "text": [
      "total reward: 0.8099999999999999\n"
     ]
    },
    {
     "name": "stderr",
     "output_type": "stream",
     "text": [
      "\r\n",
      " 11%|████████▌                                                                     | 11/100 [00:11<01:31,  1.03s/it]"
     ]
    },
    {
     "name": "stdout",
     "output_type": "stream",
     "text": [
      "total reward: 0.8099999999999999\n"
     ]
    },
    {
     "name": "stderr",
     "output_type": "stream",
     "text": [
      "\r\n",
      " 12%|█████████▎                                                                    | 12/100 [00:12<01:31,  1.03s/it]"
     ]
    },
    {
     "name": "stdout",
     "output_type": "stream",
     "text": [
      "total reward: 0.8099999999999999\n"
     ]
    },
    {
     "name": "stderr",
     "output_type": "stream",
     "text": [
      "\r\n",
      " 13%|██████████▏                                                                   | 13/100 [00:13<01:30,  1.04s/it]"
     ]
    },
    {
     "name": "stdout",
     "output_type": "stream",
     "text": [
      "total reward: 0.8099999999999999\n"
     ]
    },
    {
     "name": "stderr",
     "output_type": "stream",
     "text": [
      "\r\n",
      " 14%|██████████▉                                                                   | 14/100 [00:14<01:29,  1.04s/it]"
     ]
    },
    {
     "name": "stdout",
     "output_type": "stream",
     "text": [
      "total reward: 0.8099999999999999\n"
     ]
    },
    {
     "name": "stderr",
     "output_type": "stream",
     "text": [
      "\r\n",
      " 15%|███████████▋                                                                  | 15/100 [00:15<01:27,  1.03s/it]"
     ]
    },
    {
     "name": "stdout",
     "output_type": "stream",
     "text": [
      "total reward: 0.8099999999999999\n"
     ]
    },
    {
     "name": "stderr",
     "output_type": "stream",
     "text": [
      "\r\n",
      " 16%|████████████▍                                                                 | 16/100 [00:16<01:26,  1.03s/it]"
     ]
    },
    {
     "name": "stdout",
     "output_type": "stream",
     "text": [
      "total reward: 0.8099999999999999\n"
     ]
    },
    {
     "name": "stderr",
     "output_type": "stream",
     "text": [
      "\r\n",
      " 17%|█████████████▎                                                                | 17/100 [00:17<01:24,  1.02s/it]"
     ]
    },
    {
     "name": "stdout",
     "output_type": "stream",
     "text": [
      "total reward: 0.8099999999999999\n"
     ]
    },
    {
     "name": "stderr",
     "output_type": "stream",
     "text": [
      "\r\n",
      " 18%|██████████████                                                                | 18/100 [00:18<01:24,  1.02s/it]"
     ]
    },
    {
     "name": "stdout",
     "output_type": "stream",
     "text": [
      "total reward: 0.8099999999999999\n"
     ]
    },
    {
     "name": "stderr",
     "output_type": "stream",
     "text": [
      "\r\n",
      " 19%|██████████████▊                                                               | 19/100 [00:19<01:23,  1.04s/it]"
     ]
    },
    {
     "name": "stdout",
     "output_type": "stream",
     "text": [
      "total reward: 0.8099999999999999\n"
     ]
    },
    {
     "name": "stderr",
     "output_type": "stream",
     "text": [
      "\r\n",
      " 20%|███████████████▌                                                              | 20/100 [00:20<01:22,  1.03s/it]"
     ]
    },
    {
     "name": "stdout",
     "output_type": "stream",
     "text": [
      "total reward: 0.8099999999999999\n"
     ]
    },
    {
     "name": "stderr",
     "output_type": "stream",
     "text": [
      "\r\n",
      " 21%|████████████████▍                                                             | 21/100 [00:21<01:21,  1.03s/it]"
     ]
    },
    {
     "name": "stdout",
     "output_type": "stream",
     "text": [
      "total reward: 0.8099999999999999\n"
     ]
    },
    {
     "name": "stderr",
     "output_type": "stream",
     "text": [
      "\r\n",
      " 22%|█████████████████▏                                                            | 22/100 [00:22<01:20,  1.03s/it]"
     ]
    },
    {
     "name": "stdout",
     "output_type": "stream",
     "text": [
      "total reward: 0.8099999999999999\n"
     ]
    },
    {
     "name": "stderr",
     "output_type": "stream",
     "text": [
      "\r\n",
      " 23%|█████████████████▉                                                            | 23/100 [00:23<01:19,  1.03s/it]"
     ]
    },
    {
     "name": "stdout",
     "output_type": "stream",
     "text": [
      "total reward: 0.8099999999999999\n"
     ]
    },
    {
     "name": "stderr",
     "output_type": "stream",
     "text": [
      "\r\n",
      " 24%|██████████████████▋                                                           | 24/100 [00:24<01:18,  1.03s/it]"
     ]
    },
    {
     "name": "stdout",
     "output_type": "stream",
     "text": [
      "total reward: 0.8099999999999999\n"
     ]
    },
    {
     "name": "stderr",
     "output_type": "stream",
     "text": [
      "\r\n",
      " 25%|███████████████████▌                                                          | 25/100 [00:25<01:17,  1.03s/it]"
     ]
    },
    {
     "name": "stdout",
     "output_type": "stream",
     "text": [
      "total reward: 0.8099999999999999\n"
     ]
    },
    {
     "name": "stderr",
     "output_type": "stream",
     "text": [
      "\r\n",
      " 26%|████████████████████▎                                                         | 26/100 [00:26<01:16,  1.04s/it]"
     ]
    },
    {
     "name": "stdout",
     "output_type": "stream",
     "text": [
      "total reward: 0.8099999999999999\n"
     ]
    },
    {
     "name": "stderr",
     "output_type": "stream",
     "text": [
      "\r\n",
      " 27%|█████████████████████                                                         | 27/100 [00:27<01:15,  1.04s/it]"
     ]
    },
    {
     "name": "stdout",
     "output_type": "stream",
     "text": [
      "total reward: 0.8099999999999999\n"
     ]
    },
    {
     "name": "stderr",
     "output_type": "stream",
     "text": [
      "\r\n",
      " 28%|█████████████████████▊                                                        | 28/100 [00:29<01:15,  1.05s/it]"
     ]
    },
    {
     "name": "stdout",
     "output_type": "stream",
     "text": [
      "total reward: 0.8099999999999999\n"
     ]
    },
    {
     "name": "stderr",
     "output_type": "stream",
     "text": [
      "\r\n",
      " 29%|██████████████████████▌                                                       | 29/100 [00:30<01:14,  1.05s/it]"
     ]
    },
    {
     "name": "stdout",
     "output_type": "stream",
     "text": [
      "total reward: 0.8099999999999999\n"
     ]
    },
    {
     "name": "stderr",
     "output_type": "stream",
     "text": [
      "\r\n",
      " 30%|███████████████████████▍                                                      | 30/100 [00:31<01:13,  1.06s/it]"
     ]
    },
    {
     "name": "stdout",
     "output_type": "stream",
     "text": [
      "total reward: 0.8099999999999999\n"
     ]
    },
    {
     "name": "stderr",
     "output_type": "stream",
     "text": [
      "\r\n",
      " 31%|████████████████████████▏                                                     | 31/100 [00:32<01:12,  1.05s/it]"
     ]
    },
    {
     "name": "stdout",
     "output_type": "stream",
     "text": [
      "total reward: 0.8099999999999999\n"
     ]
    },
    {
     "name": "stderr",
     "output_type": "stream",
     "text": [
      "\r\n",
      " 32%|████████████████████████▉                                                     | 32/100 [00:33<01:11,  1.06s/it]"
     ]
    },
    {
     "name": "stdout",
     "output_type": "stream",
     "text": [
      "total reward: 0.8099999999999999\n"
     ]
    },
    {
     "name": "stderr",
     "output_type": "stream",
     "text": [
      "\r\n",
      " 33%|█████████████████████████▋                                                    | 33/100 [00:34<01:10,  1.05s/it]"
     ]
    },
    {
     "name": "stdout",
     "output_type": "stream",
     "text": [
      "total reward: 0.8099999999999999\n"
     ]
    },
    {
     "name": "stderr",
     "output_type": "stream",
     "text": [
      "\r\n",
      " 34%|██████████████████████████▌                                                   | 34/100 [00:35<01:08,  1.04s/it]"
     ]
    },
    {
     "name": "stdout",
     "output_type": "stream",
     "text": [
      "total reward: 0.8099999999999999\n"
     ]
    },
    {
     "name": "stderr",
     "output_type": "stream",
     "text": [
      "\r\n",
      " 35%|███████████████████████████▎                                                  | 35/100 [00:36<01:07,  1.04s/it]"
     ]
    },
    {
     "name": "stdout",
     "output_type": "stream",
     "text": [
      "total reward: 0.8099999999999999\n"
     ]
    },
    {
     "name": "stderr",
     "output_type": "stream",
     "text": [
      "\r\n",
      " 36%|████████████████████████████                                                  | 36/100 [00:37<01:07,  1.06s/it]"
     ]
    },
    {
     "name": "stdout",
     "output_type": "stream",
     "text": [
      "total reward: 0.8099999999999999\n"
     ]
    },
    {
     "name": "stderr",
     "output_type": "stream",
     "text": [
      "\r\n",
      " 37%|████████████████████████████▊                                                 | 37/100 [00:38<01:05,  1.05s/it]"
     ]
    },
    {
     "name": "stdout",
     "output_type": "stream",
     "text": [
      "total reward: 0.8099999999999999\n"
     ]
    },
    {
     "name": "stderr",
     "output_type": "stream",
     "text": [
      "\r\n",
      " 38%|█████████████████████████████▋                                                | 38/100 [00:39<01:05,  1.05s/it]"
     ]
    },
    {
     "name": "stdout",
     "output_type": "stream",
     "text": [
      "total reward: 0.8099999999999999\n"
     ]
    },
    {
     "name": "stderr",
     "output_type": "stream",
     "text": [
      "\r\n",
      " 39%|██████████████████████████████▍                                               | 39/100 [00:40<01:03,  1.05s/it]"
     ]
    },
    {
     "name": "stdout",
     "output_type": "stream",
     "text": [
      "total reward: 0.8099999999999999\n"
     ]
    },
    {
     "name": "stderr",
     "output_type": "stream",
     "text": [
      "\r\n",
      " 40%|███████████████████████████████▏                                              | 40/100 [00:41<01:03,  1.06s/it]"
     ]
    },
    {
     "name": "stdout",
     "output_type": "stream",
     "text": [
      "total reward: 0.8099999999999999\n"
     ]
    },
    {
     "name": "stderr",
     "output_type": "stream",
     "text": [
      "\r\n",
      " 41%|███████████████████████████████▉                                              | 41/100 [00:42<01:02,  1.05s/it]"
     ]
    },
    {
     "name": "stdout",
     "output_type": "stream",
     "text": [
      "total reward: 0.8099999999999999\n"
     ]
    },
    {
     "name": "stderr",
     "output_type": "stream",
     "text": [
      "\r\n",
      " 42%|████████████████████████████████▊                                             | 42/100 [00:43<01:01,  1.06s/it]"
     ]
    },
    {
     "name": "stdout",
     "output_type": "stream",
     "text": [
      "total reward: 0.8099999999999999\n"
     ]
    },
    {
     "name": "stderr",
     "output_type": "stream",
     "text": [
      "\r\n",
      " 43%|█████████████████████████████████▌                                            | 43/100 [00:44<00:59,  1.05s/it]"
     ]
    },
    {
     "name": "stdout",
     "output_type": "stream",
     "text": [
      "total reward: 0.8099999999999999\n"
     ]
    },
    {
     "name": "stderr",
     "output_type": "stream",
     "text": [
      "\r\n",
      " 44%|██████████████████████████████████▎                                           | 44/100 [00:45<00:58,  1.05s/it]"
     ]
    },
    {
     "name": "stdout",
     "output_type": "stream",
     "text": [
      "total reward: 0.8099999999999999\n"
     ]
    },
    {
     "name": "stderr",
     "output_type": "stream",
     "text": [
      "\r\n",
      " 45%|███████████████████████████████████                                           | 45/100 [00:46<00:57,  1.05s/it]"
     ]
    },
    {
     "name": "stdout",
     "output_type": "stream",
     "text": [
      "total reward: 0.8099999999999999\n"
     ]
    },
    {
     "name": "stderr",
     "output_type": "stream",
     "text": [
      "\r\n",
      " 46%|███████████████████████████████████▉                                          | 46/100 [00:47<00:56,  1.05s/it]"
     ]
    },
    {
     "name": "stdout",
     "output_type": "stream",
     "text": [
      "total reward: 0.8099999999999999\n"
     ]
    },
    {
     "name": "stderr",
     "output_type": "stream",
     "text": [
      "\r\n",
      " 47%|████████████████████████████████████▋                                         | 47/100 [00:48<00:55,  1.05s/it]"
     ]
    },
    {
     "name": "stdout",
     "output_type": "stream",
     "text": [
      "total reward: 0.8099999999999999\n"
     ]
    },
    {
     "name": "stderr",
     "output_type": "stream",
     "text": [
      "\r\n",
      " 48%|█████████████████████████████████████▍                                        | 48/100 [00:50<00:54,  1.05s/it]"
     ]
    },
    {
     "name": "stdout",
     "output_type": "stream",
     "text": [
      "total reward: 0.8099999999999999\n"
     ]
    },
    {
     "name": "stderr",
     "output_type": "stream",
     "text": [
      "\r\n",
      " 49%|██████████████████████████████████████▏                                       | 49/100 [00:51<00:53,  1.05s/it]"
     ]
    },
    {
     "name": "stdout",
     "output_type": "stream",
     "text": [
      "total reward: 0.8099999999999999\n"
     ]
    },
    {
     "name": "stderr",
     "output_type": "stream",
     "text": [
      "\r\n",
      " 50%|███████████████████████████████████████                                       | 50/100 [00:52<00:52,  1.05s/it]"
     ]
    },
    {
     "name": "stdout",
     "output_type": "stream",
     "text": [
      "total reward: 0.8099999999999999\n"
     ]
    },
    {
     "name": "stderr",
     "output_type": "stream",
     "text": [
      "\r\n",
      " 51%|███████████████████████████████████████▊                                      | 51/100 [00:53<00:51,  1.04s/it]"
     ]
    },
    {
     "name": "stdout",
     "output_type": "stream",
     "text": [
      "total reward: 0.8099999999999999\n"
     ]
    },
    {
     "name": "stderr",
     "output_type": "stream",
     "text": [
      "\r\n",
      " 52%|████████████████████████████████████████▌                                     | 52/100 [00:54<00:50,  1.05s/it]"
     ]
    },
    {
     "name": "stdout",
     "output_type": "stream",
     "text": [
      "total reward: 0.8099999999999999\n"
     ]
    },
    {
     "name": "stderr",
     "output_type": "stream",
     "text": [
      "\r\n",
      " 53%|█████████████████████████████████████████▎                                    | 53/100 [00:55<00:48,  1.04s/it]"
     ]
    },
    {
     "name": "stdout",
     "output_type": "stream",
     "text": [
      "total reward: 0.8099999999999999\n"
     ]
    },
    {
     "name": "stderr",
     "output_type": "stream",
     "text": [
      "\r\n",
      " 54%|██████████████████████████████████████████                                    | 54/100 [00:56<00:47,  1.04s/it]"
     ]
    },
    {
     "name": "stdout",
     "output_type": "stream",
     "text": [
      "total reward: 0.8099999999999999\n"
     ]
    },
    {
     "name": "stderr",
     "output_type": "stream",
     "text": [
      "\r\n",
      " 55%|██████████████████████████████████████████▉                                   | 55/100 [00:57<00:46,  1.04s/it]"
     ]
    },
    {
     "name": "stdout",
     "output_type": "stream",
     "text": [
      "total reward: 0.8099999999999999\n"
     ]
    },
    {
     "name": "stderr",
     "output_type": "stream",
     "text": [
      "\r\n",
      " 56%|███████████████████████████████████████████▋                                  | 56/100 [00:58<00:45,  1.03s/it]"
     ]
    },
    {
     "name": "stdout",
     "output_type": "stream",
     "text": [
      "total reward: 0.8099999999999999\n"
     ]
    },
    {
     "name": "stderr",
     "output_type": "stream",
     "text": [
      "\r\n",
      " 57%|████████████████████████████████████████████▍                                 | 57/100 [00:59<00:44,  1.03s/it]"
     ]
    },
    {
     "name": "stdout",
     "output_type": "stream",
     "text": [
      "total reward: 0.8099999999999999\n"
     ]
    },
    {
     "name": "stderr",
     "output_type": "stream",
     "text": [
      "\r\n",
      " 58%|█████████████████████████████████████████████▏                                | 58/100 [01:00<00:43,  1.03s/it]"
     ]
    },
    {
     "name": "stdout",
     "output_type": "stream",
     "text": [
      "total reward: 0.8099999999999999\n"
     ]
    },
    {
     "name": "stderr",
     "output_type": "stream",
     "text": [
      "\r\n",
      " 59%|██████████████████████████████████████████████                                | 59/100 [01:01<00:42,  1.04s/it]"
     ]
    },
    {
     "name": "stdout",
     "output_type": "stream",
     "text": [
      "total reward: 0.8099999999999999\n"
     ]
    },
    {
     "name": "stderr",
     "output_type": "stream",
     "text": [
      "\r\n",
      " 60%|██████████████████████████████████████████████▊                               | 60/100 [01:02<00:41,  1.04s/it]"
     ]
    },
    {
     "name": "stdout",
     "output_type": "stream",
     "text": [
      "total reward: 0.8099999999999999\n"
     ]
    },
    {
     "name": "stderr",
     "output_type": "stream",
     "text": [
      "\r\n",
      " 61%|███████████████████████████████████████████████▌                              | 61/100 [01:03<00:40,  1.04s/it]"
     ]
    },
    {
     "name": "stdout",
     "output_type": "stream",
     "text": [
      "total reward: 0.8099999999999999\n"
     ]
    },
    {
     "name": "stderr",
     "output_type": "stream",
     "text": [
      "\r\n",
      " 62%|████████████████████████████████████████████████▎                             | 62/100 [01:04<00:39,  1.04s/it]"
     ]
    },
    {
     "name": "stdout",
     "output_type": "stream",
     "text": [
      "total reward: 0.8099999999999999\n"
     ]
    },
    {
     "name": "stderr",
     "output_type": "stream",
     "text": [
      "\r\n",
      " 63%|█████████████████████████████████████████████████▏                            | 63/100 [01:05<00:38,  1.04s/it]"
     ]
    },
    {
     "name": "stdout",
     "output_type": "stream",
     "text": [
      "total reward: 0.8099999999999999\n"
     ]
    },
    {
     "name": "stderr",
     "output_type": "stream",
     "text": [
      "\r\n",
      " 64%|█████████████████████████████████████████████████▉                            | 64/100 [01:06<00:37,  1.05s/it]"
     ]
    },
    {
     "name": "stdout",
     "output_type": "stream",
     "text": [
      "total reward: 0.8099999999999999\n"
     ]
    },
    {
     "name": "stderr",
     "output_type": "stream",
     "text": [
      "\r\n",
      " 65%|██████████████████████████████████████████████████▋                           | 65/100 [01:07<00:36,  1.04s/it]"
     ]
    },
    {
     "name": "stdout",
     "output_type": "stream",
     "text": [
      "total reward: 0.8099999999999999\n"
     ]
    },
    {
     "name": "stderr",
     "output_type": "stream",
     "text": [
      "\r\n",
      " 66%|███████████████████████████████████████████████████▍                          | 66/100 [01:08<00:35,  1.04s/it]"
     ]
    },
    {
     "name": "stdout",
     "output_type": "stream",
     "text": [
      "total reward: 0.8099999999999999\n"
     ]
    },
    {
     "name": "stderr",
     "output_type": "stream",
     "text": [
      "\r\n",
      " 67%|████████████████████████████████████████████████████▎                         | 67/100 [01:09<00:34,  1.04s/it]"
     ]
    },
    {
     "name": "stdout",
     "output_type": "stream",
     "text": [
      "total reward: 0.8099999999999999\n"
     ]
    },
    {
     "name": "stderr",
     "output_type": "stream",
     "text": [
      "\r\n",
      " 68%|█████████████████████████████████████████████████████                         | 68/100 [01:10<00:33,  1.04s/it]"
     ]
    },
    {
     "name": "stdout",
     "output_type": "stream",
     "text": [
      "total reward: 0.8099999999999999\n"
     ]
    },
    {
     "name": "stderr",
     "output_type": "stream",
     "text": [
      "\r\n",
      " 69%|█████████████████████████████████████████████████████▊                        | 69/100 [01:11<00:32,  1.04s/it]"
     ]
    },
    {
     "name": "stdout",
     "output_type": "stream",
     "text": [
      "total reward: 0.8099999999999999\n"
     ]
    },
    {
     "name": "stderr",
     "output_type": "stream",
     "text": [
      "\r\n",
      " 70%|██████████████████████████████████████████████████████▌                       | 70/100 [01:12<00:31,  1.05s/it]"
     ]
    },
    {
     "name": "stdout",
     "output_type": "stream",
     "text": [
      "total reward: 0.8099999999999999\n"
     ]
    },
    {
     "name": "stderr",
     "output_type": "stream",
     "text": [
      "\r\n",
      " 71%|███████████████████████████████████████████████████████▍                      | 71/100 [01:13<00:30,  1.04s/it]"
     ]
    },
    {
     "name": "stdout",
     "output_type": "stream",
     "text": [
      "total reward: 0.8099999999999999\n"
     ]
    },
    {
     "name": "stderr",
     "output_type": "stream",
     "text": [
      "\r\n",
      " 72%|████████████████████████████████████████████████████████▏                     | 72/100 [01:14<00:29,  1.04s/it]"
     ]
    },
    {
     "name": "stdout",
     "output_type": "stream",
     "text": [
      "total reward: 0.8099999999999999\n"
     ]
    },
    {
     "name": "stderr",
     "output_type": "stream",
     "text": [
      "\r\n",
      " 73%|████████████████████████████████████████████████████████▉                     | 73/100 [01:16<00:28,  1.04s/it]"
     ]
    },
    {
     "name": "stdout",
     "output_type": "stream",
     "text": [
      "total reward: 0.8099999999999999\n"
     ]
    },
    {
     "name": "stderr",
     "output_type": "stream",
     "text": [
      "\r\n",
      " 74%|█████████████████████████████████████████████████████████▋                    | 74/100 [01:17<00:27,  1.04s/it]"
     ]
    },
    {
     "name": "stdout",
     "output_type": "stream",
     "text": [
      "total reward: 0.8099999999999999\n"
     ]
    },
    {
     "name": "stderr",
     "output_type": "stream",
     "text": [
      "\r\n",
      " 75%|██████████████████████████████████████████████████████████▌                   | 75/100 [01:18<00:26,  1.05s/it]"
     ]
    },
    {
     "name": "stdout",
     "output_type": "stream",
     "text": [
      "total reward: 0.8099999999999999\n"
     ]
    },
    {
     "name": "stderr",
     "output_type": "stream",
     "text": [
      "\r\n",
      " 76%|███████████████████████████████████████████████████████████▎                  | 76/100 [01:19<00:25,  1.05s/it]"
     ]
    },
    {
     "name": "stdout",
     "output_type": "stream",
     "text": [
      "total reward: 0.8099999999999999\n"
     ]
    },
    {
     "name": "stderr",
     "output_type": "stream",
     "text": [
      "\r\n",
      " 77%|████████████████████████████████████████████████████████████                  | 77/100 [01:20<00:24,  1.05s/it]"
     ]
    },
    {
     "name": "stdout",
     "output_type": "stream",
     "text": [
      "total reward: 0.8099999999999999\n"
     ]
    },
    {
     "name": "stderr",
     "output_type": "stream",
     "text": [
      "\r\n",
      " 78%|████████████████████████████████████████████████████████████▊                 | 78/100 [01:21<00:22,  1.04s/it]"
     ]
    },
    {
     "name": "stdout",
     "output_type": "stream",
     "text": [
      "total reward: 0.8099999999999999\n"
     ]
    },
    {
     "name": "stderr",
     "output_type": "stream",
     "text": [
      "\r\n",
      " 79%|█████████████████████████████████████████████████████████████▌                | 79/100 [01:22<00:21,  1.05s/it]"
     ]
    },
    {
     "name": "stdout",
     "output_type": "stream",
     "text": [
      "total reward: 0.8099999999999999\n"
     ]
    },
    {
     "name": "stderr",
     "output_type": "stream",
     "text": [
      "\r\n",
      " 80%|██████████████████████████████████████████████████████████████▍               | 80/100 [01:23<00:21,  1.06s/it]"
     ]
    },
    {
     "name": "stdout",
     "output_type": "stream",
     "text": [
      "total reward: 0.8099999999999999\n"
     ]
    },
    {
     "name": "stderr",
     "output_type": "stream",
     "text": [
      "\r\n",
      " 81%|███████████████████████████████████████████████████████████████▏              | 81/100 [01:24<00:20,  1.05s/it]"
     ]
    },
    {
     "name": "stdout",
     "output_type": "stream",
     "text": [
      "total reward: 0.8099999999999999\n"
     ]
    },
    {
     "name": "stderr",
     "output_type": "stream",
     "text": [
      "\r\n",
      " 82%|███████████████████████████████████████████████████████████████▉              | 82/100 [01:25<00:18,  1.05s/it]"
     ]
    },
    {
     "name": "stdout",
     "output_type": "stream",
     "text": [
      "total reward: 0.8099999999999999\n"
     ]
    },
    {
     "name": "stderr",
     "output_type": "stream",
     "text": [
      "\r\n",
      " 83%|████████████████████████████████████████████████████████████████▋             | 83/100 [01:26<00:17,  1.05s/it]"
     ]
    },
    {
     "name": "stdout",
     "output_type": "stream",
     "text": [
      "total reward: 0.8099999999999999\n"
     ]
    },
    {
     "name": "stderr",
     "output_type": "stream",
     "text": [
      "\r\n",
      " 84%|█████████████████████████████████████████████████████████████████▌            | 84/100 [01:27<00:16,  1.06s/it]"
     ]
    },
    {
     "name": "stdout",
     "output_type": "stream",
     "text": [
      "total reward: 0.8099999999999999\n"
     ]
    },
    {
     "name": "stderr",
     "output_type": "stream",
     "text": [
      "\r\n",
      " 85%|██████████████████████████████████████████████████████████████████▎           | 85/100 [01:28<00:15,  1.05s/it]"
     ]
    },
    {
     "name": "stdout",
     "output_type": "stream",
     "text": [
      "total reward: 0.8099999999999999\n"
     ]
    },
    {
     "name": "stderr",
     "output_type": "stream",
     "text": [
      "\r\n",
      " 86%|███████████████████████████████████████████████████████████████████           | 86/100 [01:29<00:14,  1.04s/it]"
     ]
    },
    {
     "name": "stdout",
     "output_type": "stream",
     "text": [
      "total reward: 0.8099999999999999\n"
     ]
    },
    {
     "name": "stderr",
     "output_type": "stream",
     "text": [
      "\r\n",
      " 87%|███████████████████████████████████████████████████████████████████▊          | 87/100 [01:30<00:13,  1.05s/it]"
     ]
    },
    {
     "name": "stdout",
     "output_type": "stream",
     "text": [
      "total reward: 0.8099999999999999\n"
     ]
    },
    {
     "name": "stderr",
     "output_type": "stream",
     "text": [
      "\r\n",
      " 88%|████████████████████████████████████████████████████████████████████▋         | 88/100 [01:31<00:12,  1.05s/it]"
     ]
    },
    {
     "name": "stdout",
     "output_type": "stream",
     "text": [
      "total reward: 0.8099999999999999\n"
     ]
    },
    {
     "name": "stderr",
     "output_type": "stream",
     "text": [
      "\r\n",
      " 89%|█████████████████████████████████████████████████████████████████████▍        | 89/100 [01:32<00:11,  1.04s/it]"
     ]
    },
    {
     "name": "stdout",
     "output_type": "stream",
     "text": [
      "total reward: 0.8099999999999999\n"
     ]
    },
    {
     "name": "stderr",
     "output_type": "stream",
     "text": [
      "\r\n",
      " 90%|██████████████████████████████████████████████████████████████████████▏       | 90/100 [01:33<00:10,  1.05s/it]"
     ]
    },
    {
     "name": "stdout",
     "output_type": "stream",
     "text": [
      "total reward: 0.8099999999999999\n"
     ]
    },
    {
     "name": "stderr",
     "output_type": "stream",
     "text": [
      "\r\n",
      " 91%|██████████████████████████████████████████████████████████████████████▉       | 91/100 [01:34<00:09,  1.05s/it]"
     ]
    },
    {
     "name": "stdout",
     "output_type": "stream",
     "text": [
      "total reward: 0.8099999999999999\n"
     ]
    },
    {
     "name": "stderr",
     "output_type": "stream",
     "text": [
      "\r\n",
      " 92%|███████████████████████████████████████████████████████████████████████▊      | 92/100 [01:35<00:08,  1.04s/it]"
     ]
    },
    {
     "name": "stdout",
     "output_type": "stream",
     "text": [
      "total reward: 0.8099999999999999\n"
     ]
    },
    {
     "name": "stderr",
     "output_type": "stream",
     "text": [
      "\r\n",
      " 93%|████████████████████████████████████████████████████████████████████████▌     | 93/100 [01:36<00:07,  1.04s/it]"
     ]
    },
    {
     "name": "stdout",
     "output_type": "stream",
     "text": [
      "total reward: 0.8099999999999999\n"
     ]
    },
    {
     "name": "stderr",
     "output_type": "stream",
     "text": [
      "\r\n",
      " 94%|█████████████████████████████████████████████████████████████████████████▎    | 94/100 [01:38<00:06,  1.05s/it]"
     ]
    },
    {
     "name": "stdout",
     "output_type": "stream",
     "text": [
      "total reward: 0.8099999999999999\n"
     ]
    },
    {
     "name": "stderr",
     "output_type": "stream",
     "text": [
      "\r\n",
      " 95%|██████████████████████████████████████████████████████████████████████████    | 95/100 [01:39<00:05,  1.05s/it]"
     ]
    },
    {
     "name": "stdout",
     "output_type": "stream",
     "text": [
      "total reward: 0.8099999999999999\n"
     ]
    },
    {
     "name": "stderr",
     "output_type": "stream",
     "text": [
      "\r\n",
      " 96%|██████████████████████████████████████████████████████████████████████████▉   | 96/100 [01:40<00:04,  1.04s/it]"
     ]
    },
    {
     "name": "stdout",
     "output_type": "stream",
     "text": [
      "total reward: 0.8099999999999999\n"
     ]
    },
    {
     "name": "stderr",
     "output_type": "stream",
     "text": [
      "\r\n",
      " 97%|███████████████████████████████████████████████████████████████████████████▋  | 97/100 [01:41<00:03,  1.05s/it]"
     ]
    },
    {
     "name": "stdout",
     "output_type": "stream",
     "text": [
      "total reward: 0.8099999999999999\n"
     ]
    },
    {
     "name": "stderr",
     "output_type": "stream",
     "text": [
      "\r\n",
      " 98%|████████████████████████████████████████████████████████████████████████████▍ | 98/100 [01:42<00:02,  1.05s/it]"
     ]
    },
    {
     "name": "stdout",
     "output_type": "stream",
     "text": [
      "total reward: 0.8099999999999999\n"
     ]
    },
    {
     "name": "stderr",
     "output_type": "stream",
     "text": [
      "\r\n",
      " 99%|█████████████████████████████████████████████████████████████████████████████▏| 99/100 [01:43<00:01,  1.04s/it]"
     ]
    },
    {
     "name": "stdout",
     "output_type": "stream",
     "text": [
      "total reward: 0.8099999999999999\n"
     ]
    },
    {
     "name": "stderr",
     "output_type": "stream",
     "text": [
      "100%|█████████████████████████████████████████████████████████████████████████████| 100/100 [01:44<00:00,  1.04s/it]"
     ]
    },
    {
     "name": "stdout",
     "output_type": "stream",
     "text": [
      "total reward: 0.8099999999999999\n"
     ]
    },
    {
     "name": "stderr",
     "output_type": "stream",
     "text": [
      "\n"
     ]
    }
   ],
   "source": [
    "record = test(100)"
   ]
  },
  {
   "cell_type": "code",
   "execution_count": 4,
   "id": "8a370b30",
   "metadata": {},
   "outputs": [
    {
     "data": {
      "text/plain": [
       "100"
      ]
     },
     "execution_count": 4,
     "metadata": {},
     "output_type": "execute_result"
    }
   ],
   "source": [
    "record.count(record[0])"
   ]
  },
  {
   "cell_type": "code",
   "execution_count": 5,
   "id": "19c36171",
   "metadata": {},
   "outputs": [],
   "source": [
    "record_count = {}\n",
    "for i in record:\n",
    "    if i in record_count:\n",
    "        record_count[i] +=1\n",
    "        \n",
    "    else:\n",
    "        record_count[i] = 1"
   ]
  },
  {
   "cell_type": "code",
   "execution_count": 6,
   "id": "9602b501",
   "metadata": {},
   "outputs": [
    {
     "data": {
      "text/plain": [
       "{0.8099999999999999: 100}"
      ]
     },
     "execution_count": 6,
     "metadata": {},
     "output_type": "execute_result"
    }
   ],
   "source": [
    "record_count"
   ]
  }
 ],
 "metadata": {
  "kernelspec": {
   "display_name": "Python 3 (ipykernel)",
   "language": "python",
   "name": "python3"
  },
  "language_info": {
   "codemirror_mode": {
    "name": "ipython",
    "version": 3
   },
   "file_extension": ".py",
   "mimetype": "text/x-python",
   "name": "python",
   "nbconvert_exporter": "python",
   "pygments_lexer": "ipython3",
   "version": "3.8.13"
  }
 },
 "nbformat": 4,
 "nbformat_minor": 5
}
